{
 "cells": [
  {
   "cell_type": "code",
   "execution_count": 5,
   "id": "3fbd97fb",
   "metadata": {},
   "outputs": [],
   "source": [
    "import pandas as pd\n",
    "import numpy as np\n",
    "from pandas import ExcelWriter\n",
    "from pandas import ExcelFile\n",
    "from sklearn.datasets import make_classification\n",
    "from sklearn.model_selection import train_test_split\n",
    "import os\n",
    "from supervised.automl import AutoML\n",
    "\n",
    "from sklearn.metrics import accuracy_score\n",
    "from sklearn.model_selection import train_test_split\n",
    "from sklearn.model_selection import cross_val_score, GridSearchCV\n",
    "from sklearn.linear_model import LogisticRegression\n",
    "from sklearn.tree import DecisionTreeClassifier\n",
    "from sklearn.ensemble import RandomForestClassifier"
   ]
  },
  {
   "cell_type": "markdown",
   "id": "17ea3768",
   "metadata": {},
   "source": [
    "## Firstly, let's load in our data and convert to CSV"
   ]
  },
  {
   "cell_type": "markdown",
   "id": "b315efc7",
   "metadata": {},
   "source": [
    "I try automl with numbered features to predict strains now. I also use imputed target variables now instead of our targets with NaN present."
   ]
  },
  {
   "cell_type": "code",
   "execution_count": 6,
   "id": "e6a22f99",
   "metadata": {},
   "outputs": [],
   "source": [
    "data = pd.read_excel('data/FrontiersDS.xlsx', sheet_name='Wide')"
   ]
  },
  {
   "cell_type": "code",
   "execution_count": 12,
   "id": "8742cace",
   "metadata": {},
   "outputs": [],
   "source": [
    "imputed = pd.read_csv('data/imputed_wide.csv', index_col='Unnamed: 0')"
   ]
  },
  {
   "cell_type": "code",
   "execution_count": 13,
   "id": "c45d3b8d",
   "metadata": {},
   "outputs": [],
   "source": [
    "features = pd.read_csv('data/features_wide.csv', index_col='Unnamed: 0')"
   ]
  },
  {
   "cell_type": "code",
   "execution_count": 29,
   "id": "6f17af71",
   "metadata": {},
   "outputs": [],
   "source": [
    "x = features['Strain']\n",
    "exit_status_map = {'SA_A': 0, 'SA_B': 1 ,'EC_A': 2, 'PA_A': 3, 'EC_B': 4, 'PA_B': 5}\n",
    "xyz = x.map(exit_status_map)"
   ]
  },
  {
   "cell_type": "code",
   "execution_count": 30,
   "id": "cc551e83",
   "metadata": {},
   "outputs": [
    {
     "data": {
      "text/plain": [
       "3     0\n",
       "4     0\n",
       "5     0\n",
       "6     0\n",
       "7     0\n",
       "     ..\n",
       "82    4\n",
       "83    4\n",
       "84    4\n",
       "85    4\n",
       "86    4\n",
       "Name: Strain, Length: 84, dtype: int64"
      ]
     },
     "execution_count": 30,
     "metadata": {},
     "output_type": "execute_result"
    }
   ],
   "source": [
    "xyz"
   ]
  },
  {
   "cell_type": "code",
   "execution_count": 33,
   "id": "1b5c61ce",
   "metadata": {},
   "outputs": [],
   "source": [
    "X_train, X_test, y_train, y_test = train_test_split(imputed, xyz, test_size=0.15)"
   ]
  },
  {
   "cell_type": "code",
   "execution_count": 34,
   "id": "72b9e19e",
   "metadata": {},
   "outputs": [
    {
     "name": "stdout",
     "output_type": "stream",
     "text": [
      "AutoML directory: AutoML_11\n",
      "The task is multiclass_classification with evaluation metric logloss\n",
      "AutoML will use algorithms: ['Decision Tree', 'Linear', 'Random Forest', 'Nearest Neighbors', 'Xgboost']\n",
      "AutoML will ensemble available models\n",
      "AutoML steps: ['simple_algorithms', 'default_algorithms', 'ensemble']\n",
      "* Step simple_algorithms will try to check up to 2 models\n",
      "1_DecisionTree logloss 0.599139 trained in 30.84 seconds\n",
      "2_Linear logloss 0.34405 trained in 20.31 seconds\n",
      "* Step default_algorithms will try to check up to 3 models\n",
      "3_Default_Xgboost logloss 0.116492 trained in 34.56 seconds\n",
      "4_Default_RandomForest logloss 0.67374 trained in 23.93 seconds\n"
     ]
    },
    {
     "name": "stderr",
     "output_type": "stream",
     "text": [
      "X does not have valid feature names, but KNeighborsClassifier was fitted with feature names\n",
      "X does not have valid feature names, but KNeighborsClassifier was fitted with feature names\n"
     ]
    },
    {
     "name": "stdout",
     "output_type": "stream",
     "text": [
      "Exception while producing SHAP explanations. 'NoneType' object has no attribute 'shap_values'\n",
      "Continuing ...\n",
      "5_Default_NearestNeighbors logloss 1.252451 trained in 4.52 seconds\n",
      "* Step ensemble will try to check up to 1 model\n",
      "Ensemble logloss 0.116492 trained in 0.4 seconds\n",
      "AutoML fit time: 149.7 seconds\n",
      "AutoML best model: 3_Default_Xgboost\n"
     ]
    },
    {
     "data": {
      "text/plain": [
       "AutoML(algorithms=['Decision Tree', 'Linear', 'Random Forest',\n",
       "                   'Nearest Neighbors', 'Xgboost'],\n",
       "       total_time_limit=300)"
      ]
     },
     "execution_count": 34,
     "metadata": {},
     "output_type": "execute_result"
    }
   ],
   "source": [
    "automl = AutoML(algorithms=[\"Decision Tree\", \"Linear\", \"Random Forest\", \"Nearest Neighbors\", \"Xgboost\"], total_time_limit=5*60)\n",
    "automl.fit(X_train, y_train)"
   ]
  },
  {
   "cell_type": "code",
   "execution_count": 35,
   "id": "a14f491c",
   "metadata": {},
   "outputs": [
    {
     "name": "stdout",
     "output_type": "stream",
     "text": [
      "    Predicted  Target\n",
      "0           2       2\n",
      "1           4       4\n",
      "2           0       1\n",
      "3           4       4\n",
      "4           3       3\n",
      "5           2       2\n",
      "6           4       4\n",
      "7           2       2\n",
      "8           2       2\n",
      "9           1       1\n",
      "10          5       5\n",
      "11          1       1\n",
      "12          3       3\n"
     ]
    }
   ],
   "source": [
    "y_predicted = automl.predict(X_test)\n",
    "y_predicted = pd.DataFrame(y_predicted, columns={'Strain'})\n",
    "print(pd.DataFrame({\"Predicted\": y_predicted[\"Strain\"], \"Target\": np.array(y_test)}))"
   ]
  },
  {
   "cell_type": "code",
   "execution_count": 41,
   "id": "bf5abfea",
   "metadata": {},
   "outputs": [],
   "source": [
    "def accuracy_auto(array_pred, array_target):\n",
    "    i = 0\n",
    "    count = 0\n",
    "    zx = np.array(array_target)\n",
    "    while i < len(array_pred):\n",
    "        if array_pred['Strain'][i] == zx[i]:\n",
    "            count += 1\n",
    "            i += 1\n",
    "        else:\n",
    "            i += 1\n",
    "\n",
    "    return(count / len(array_pred))"
   ]
  },
  {
   "cell_type": "code",
   "execution_count": 42,
   "id": "8685c4ce",
   "metadata": {},
   "outputs": [
    {
     "data": {
      "text/plain": [
       "0.9230769230769231"
      ]
     },
     "execution_count": 42,
     "metadata": {},
     "output_type": "execute_result"
    }
   ],
   "source": [
    "accuracy_auto(y_predicted, y_test)"
   ]
  },
  {
   "cell_type": "code",
   "execution_count": 50,
   "id": "a1ce60fa",
   "metadata": {},
   "outputs": [
    {
     "data": {
      "text/plain": [
       "0.46153846153846156"
      ]
     },
     "execution_count": 50,
     "metadata": {},
     "output_type": "execute_result"
    }
   ],
   "source": [
    "# Cross-Validation for 15:85 split\n",
    "from sklearn import svm\n",
    "clf = svm.SVC(kernel='linear', C=1).fit(X_train, y_train)\n",
    "clf.score(X_test, y_test)"
   ]
  },
  {
   "cell_type": "code",
   "execution_count": 43,
   "id": "592fff4c",
   "metadata": {},
   "outputs": [],
   "source": [
    "X_train30, X_test30, y_train30, y_test30 = train_test_split(imputed, xyz, test_size=0.30)"
   ]
  },
  {
   "cell_type": "code",
   "execution_count": 44,
   "id": "5696e0cb",
   "metadata": {},
   "outputs": [
    {
     "name": "stdout",
     "output_type": "stream",
     "text": [
      "AutoML directory: AutoML_12\n",
      "The task is multiclass_classification with evaluation metric logloss\n",
      "AutoML will use algorithms: ['Decision Tree', 'Linear', 'Random Forest', 'Nearest Neighbors', 'Xgboost']\n",
      "AutoML will ensemble available models\n",
      "AutoML steps: ['simple_algorithms', 'default_algorithms', 'ensemble']\n",
      "* Step simple_algorithms will try to check up to 2 models\n",
      "1_DecisionTree logloss 0.386876 trained in 34.19 seconds\n",
      "2_Linear logloss 0.094014 trained in 20.64 seconds\n",
      "* Step default_algorithms will try to check up to 3 models\n",
      "3_Default_Xgboost logloss 0.049986 trained in 27.98 seconds\n",
      "4_Default_RandomForest logloss 0.777886 trained in 31.48 seconds\n"
     ]
    },
    {
     "name": "stderr",
     "output_type": "stream",
     "text": [
      "X does not have valid feature names, but KNeighborsClassifier was fitted with feature names\n",
      "X does not have valid feature names, but KNeighborsClassifier was fitted with feature names\n"
     ]
    },
    {
     "name": "stdout",
     "output_type": "stream",
     "text": [
      "Exception while producing SHAP explanations. 'NoneType' object has no attribute 'shap_values'\n",
      "Continuing ...\n",
      "5_Default_NearestNeighbors logloss 0.550311 trained in 4.41 seconds\n",
      "* Step ensemble will try to check up to 1 model\n",
      "Ensemble logloss 0.049986 trained in 0.37 seconds\n",
      "AutoML fit time: 157.78 seconds\n",
      "AutoML best model: 3_Default_Xgboost\n"
     ]
    },
    {
     "data": {
      "text/plain": [
       "AutoML(algorithms=['Decision Tree', 'Linear', 'Random Forest',\n",
       "                   'Nearest Neighbors', 'Xgboost'],\n",
       "       total_time_limit=300)"
      ]
     },
     "execution_count": 44,
     "metadata": {},
     "output_type": "execute_result"
    }
   ],
   "source": [
    "automl = AutoML(algorithms=[\"Decision Tree\", \"Linear\", \"Random Forest\", \"Nearest Neighbors\", \"Xgboost\"], total_time_limit=5*60)\n",
    "automl.fit(X_train30, y_train30)"
   ]
  },
  {
   "cell_type": "code",
   "execution_count": 45,
   "id": "735d6d28",
   "metadata": {},
   "outputs": [
    {
     "name": "stdout",
     "output_type": "stream",
     "text": [
      "    Predicted  Target\n",
      "0           4       4\n",
      "1           0       0\n",
      "2           1       1\n",
      "3           4       4\n",
      "4           0       0\n",
      "5           3       5\n",
      "6           0       0\n",
      "7           0       0\n",
      "8           3       3\n",
      "9           5       5\n",
      "10          3       3\n",
      "11          0       0\n",
      "12          0       1\n",
      "13          1       0\n",
      "14          2       2\n",
      "15          4       4\n",
      "16          5       5\n",
      "17          3       3\n",
      "18          0       0\n",
      "19          5       5\n",
      "20          2       2\n",
      "21          1       1\n",
      "22          2       2\n",
      "23          0       1\n",
      "24          2       2\n",
      "25          3       3\n"
     ]
    }
   ],
   "source": [
    "y_predicted30 = automl.predict(X_test30)\n",
    "y_predicted30 = pd.DataFrame(y_predicted30, columns={'Strain'})\n",
    "print(pd.DataFrame({\"Predicted\": y_predicted30[\"Strain\"], \"Target\": np.array(y_test30)}))"
   ]
  },
  {
   "cell_type": "code",
   "execution_count": 46,
   "id": "c73d8ecd",
   "metadata": {},
   "outputs": [
    {
     "data": {
      "text/plain": [
       "0.8461538461538461"
      ]
     },
     "execution_count": 46,
     "metadata": {},
     "output_type": "execute_result"
    }
   ],
   "source": [
    "accuracy_auto(y_predicted30, y_test30)"
   ]
  },
  {
   "cell_type": "code",
   "execution_count": 49,
   "id": "e9389cbb",
   "metadata": {},
   "outputs": [
    {
     "data": {
      "text/plain": [
       "0.7692307692307693"
      ]
     },
     "execution_count": 49,
     "metadata": {},
     "output_type": "execute_result"
    }
   ],
   "source": [
    "# Cross-Validation for 30:70 split\n",
    "from sklearn import svm\n",
    "clf30 = svm.SVC(kernel='linear', C=1).fit(X_train30, y_train30)\n",
    "clf30.score(X_test30, y_test30)"
   ]
  },
  {
   "cell_type": "code",
   "execution_count": 51,
   "id": "1c6b5894",
   "metadata": {},
   "outputs": [],
   "source": [
    "X_train40, X_test40, y_train40, y_test40 = train_test_split(imputed, xyz, test_size=0.40)"
   ]
  },
  {
   "cell_type": "code",
   "execution_count": 52,
   "id": "f42849f0",
   "metadata": {},
   "outputs": [
    {
     "name": "stdout",
     "output_type": "stream",
     "text": [
      "AutoML directory: AutoML_13\n",
      "The task is multiclass_classification with evaluation metric logloss\n",
      "AutoML will use algorithms: ['Decision Tree', 'Linear', 'Random Forest', 'Nearest Neighbors', 'Xgboost']\n",
      "AutoML will ensemble available models\n",
      "AutoML steps: ['simple_algorithms', 'default_algorithms', 'ensemble']\n",
      "* Step simple_algorithms will try to check up to 2 models\n",
      "1_DecisionTree logloss 0.565435 trained in 33.87 seconds\n",
      "2_Linear logloss 0.061669 trained in 20.66 seconds\n",
      "* Step default_algorithms will try to check up to 3 models\n",
      "3_Default_Xgboost logloss 0.086053 trained in 29.81 seconds\n",
      "4_Default_RandomForest logloss 0.650587 trained in 23.67 seconds\n"
     ]
    },
    {
     "name": "stderr",
     "output_type": "stream",
     "text": [
      "X does not have valid feature names, but KNeighborsClassifier was fitted with feature names\n",
      "X does not have valid feature names, but KNeighborsClassifier was fitted with feature names\n"
     ]
    },
    {
     "name": "stdout",
     "output_type": "stream",
     "text": [
      "Exception while producing SHAP explanations. 'NoneType' object has no attribute 'shap_values'\n",
      "Continuing ...\n",
      "5_Default_NearestNeighbors logloss 0.387216 trained in 4.51 seconds\n",
      "* Step ensemble will try to check up to 1 model\n",
      "Ensemble logloss 0.061669 trained in 0.35 seconds\n",
      "AutoML fit time: 151.07 seconds\n",
      "AutoML best model: 2_Linear\n"
     ]
    },
    {
     "data": {
      "text/plain": [
       "AutoML(algorithms=['Decision Tree', 'Linear', 'Random Forest',\n",
       "                   'Nearest Neighbors', 'Xgboost'],\n",
       "       total_time_limit=300)"
      ]
     },
     "execution_count": 52,
     "metadata": {},
     "output_type": "execute_result"
    }
   ],
   "source": [
    "automl = AutoML(algorithms=[\"Decision Tree\", \"Linear\", \"Random Forest\", \"Nearest Neighbors\", \"Xgboost\"], total_time_limit=5*60)\n",
    "automl.fit(X_train40, y_train40)"
   ]
  },
  {
   "cell_type": "code",
   "execution_count": 53,
   "id": "f60394a5",
   "metadata": {},
   "outputs": [
    {
     "name": "stdout",
     "output_type": "stream",
     "text": [
      "    Predicted  Target\n",
      "0           4       4\n",
      "1           0       0\n",
      "2           1       1\n",
      "3           4       4\n",
      "4           0       0\n",
      "5           3       5\n",
      "6           3       0\n",
      "7           3       0\n",
      "8           3       3\n",
      "9           5       5\n",
      "10          3       3\n",
      "11          2       0\n",
      "12          0       1\n",
      "13          1       0\n",
      "14          2       2\n",
      "15          4       4\n",
      "16          5       5\n",
      "17          5       3\n",
      "18          0       0\n",
      "19          5       5\n",
      "20          0       2\n",
      "21          1       1\n",
      "22          2       2\n",
      "23          1       1\n",
      "24          2       2\n",
      "25          3       3\n",
      "26          5       5\n",
      "27          5       5\n",
      "28          1       0\n",
      "29          1       1\n",
      "30          5       3\n",
      "31          0       1\n",
      "32          3       3\n",
      "33          0       2\n"
     ]
    }
   ],
   "source": [
    "y_predicted40 = automl.predict(X_test40)\n",
    "y_predicted40 = pd.DataFrame(y_predicted40, columns={'Strain'})\n",
    "print(pd.DataFrame({\"Predicted\": y_predicted40[\"Strain\"], \"Target\": np.array(y_test40)}))"
   ]
  },
  {
   "cell_type": "code",
   "execution_count": 54,
   "id": "bbaadb69",
   "metadata": {},
   "outputs": [
    {
     "data": {
      "text/plain": [
       "0.6470588235294118"
      ]
     },
     "execution_count": 54,
     "metadata": {},
     "output_type": "execute_result"
    }
   ],
   "source": [
    "accuracy_auto(y_predicted40, y_test40)"
   ]
  },
  {
   "cell_type": "code",
   "execution_count": 56,
   "id": "d6677835",
   "metadata": {},
   "outputs": [
    {
     "data": {
      "text/plain": [
       "0.6470588235294118"
      ]
     },
     "execution_count": 56,
     "metadata": {},
     "output_type": "execute_result"
    }
   ],
   "source": [
    "# Cross-Validation for 40:60 split\n",
    "from sklearn import svm\n",
    "clf40 = svm.SVC(kernel='linear', C=1).fit(X_train40, y_train40)\n",
    "clf40.score(X_test40, y_test40)"
   ]
  },
  {
   "cell_type": "code",
   "execution_count": 57,
   "id": "48c125f4",
   "metadata": {},
   "outputs": [],
   "source": [
    "X_train50, X_test50, y_train50, y_test50 = train_test_split(imputed, xyz, test_size=0.50)"
   ]
  },
  {
   "cell_type": "code",
   "execution_count": 58,
   "id": "6d6067b3",
   "metadata": {},
   "outputs": [
    {
     "name": "stdout",
     "output_type": "stream",
     "text": [
      "AutoML directory: AutoML_14\n",
      "The task is multiclass_classification with evaluation metric logloss\n",
      "AutoML will use algorithms: ['Decision Tree', 'Linear', 'Random Forest', 'Nearest Neighbors', 'Xgboost']\n",
      "AutoML will ensemble available models\n",
      "AutoML steps: ['simple_algorithms', 'default_algorithms', 'ensemble']\n",
      "* Step simple_algorithms will try to check up to 2 models\n",
      "1_DecisionTree logloss 0.020865 trained in 23.47 seconds\n",
      "2_Linear logloss 0.061263 trained in 19.54 seconds\n",
      "* Step default_algorithms will try to check up to 3 models\n",
      "3_Default_Xgboost logloss 0.051239 trained in 23.53 seconds\n",
      "4_Default_RandomForest logloss 0.627161 trained in 24.0 seconds\n"
     ]
    },
    {
     "name": "stderr",
     "output_type": "stream",
     "text": [
      "X does not have valid feature names, but KNeighborsClassifier was fitted with feature names\n",
      "X does not have valid feature names, but KNeighborsClassifier was fitted with feature names\n"
     ]
    },
    {
     "name": "stdout",
     "output_type": "stream",
     "text": [
      "Exception while producing SHAP explanations. 'NoneType' object has no attribute 'shap_values'\n",
      "Continuing ...\n",
      "5_Default_NearestNeighbors logloss 0.446942 trained in 4.81 seconds\n",
      "* Step ensemble will try to check up to 1 model\n",
      "Ensemble logloss 0.020865 trained in 0.41 seconds\n",
      "AutoML fit time: 133.95 seconds\n",
      "AutoML best model: 1_DecisionTree\n"
     ]
    },
    {
     "data": {
      "text/plain": [
       "AutoML(algorithms=['Decision Tree', 'Linear', 'Random Forest',\n",
       "                   'Nearest Neighbors', 'Xgboost'],\n",
       "       total_time_limit=300)"
      ]
     },
     "execution_count": 58,
     "metadata": {},
     "output_type": "execute_result"
    }
   ],
   "source": [
    "automl = AutoML(algorithms=[\"Decision Tree\", \"Linear\", \"Random Forest\", \"Nearest Neighbors\", \"Xgboost\"], total_time_limit=5*60)\n",
    "automl.fit(X_train50, y_train50)"
   ]
  },
  {
   "cell_type": "code",
   "execution_count": 59,
   "id": "f250f4d2",
   "metadata": {},
   "outputs": [
    {
     "name": "stdout",
     "output_type": "stream",
     "text": [
      "    Predicted  Target\n",
      "0           4       4\n",
      "1           1       0\n",
      "2           1       1\n",
      "3           4       4\n",
      "4           0       0\n",
      "5           3       5\n",
      "6           0       0\n",
      "7           0       0\n",
      "8           3       3\n",
      "9           5       5\n",
      "10          3       3\n",
      "11          0       0\n",
      "12          0       1\n",
      "13          1       0\n",
      "14          2       2\n",
      "15          4       4\n",
      "16          5       5\n",
      "17          5       3\n",
      "18          0       0\n",
      "19          5       5\n",
      "20          1       2\n",
      "21          1       1\n",
      "22          4       2\n",
      "23          0       1\n",
      "24          2       2\n",
      "25          3       3\n",
      "26          5       5\n",
      "27          5       5\n",
      "28          0       0\n",
      "29          1       1\n",
      "30          5       3\n",
      "31          1       1\n",
      "32          3       3\n",
      "33          1       2\n",
      "34          3       3\n",
      "35          3       5\n",
      "36          2       2\n",
      "37          1       0\n",
      "38          0       0\n",
      "39          4       4\n",
      "40          4       2\n",
      "41          2       2\n"
     ]
    }
   ],
   "source": [
    "y_predicted50 = automl.predict(X_test50)\n",
    "y_predicted50 = pd.DataFrame(y_predicted50, columns={'Strain'})\n",
    "print(pd.DataFrame({\"Predicted\": y_predicted50[\"Strain\"], \"Target\": np.array(y_test50)}))"
   ]
  },
  {
   "cell_type": "code",
   "execution_count": 60,
   "id": "128356b1",
   "metadata": {},
   "outputs": [
    {
     "data": {
      "text/plain": [
       "0.6904761904761905"
      ]
     },
     "execution_count": 60,
     "metadata": {},
     "output_type": "execute_result"
    }
   ],
   "source": [
    "accuracy_auto(y_predicted50, y_test50)"
   ]
  },
  {
   "cell_type": "code",
   "execution_count": 61,
   "id": "f44e9cb9",
   "metadata": {},
   "outputs": [
    {
     "data": {
      "text/plain": [
       "0.5952380952380952"
      ]
     },
     "execution_count": 61,
     "metadata": {},
     "output_type": "execute_result"
    }
   ],
   "source": [
    "# Cross-Validation for 50:50 split\n",
    "from sklearn import svm\n",
    "clf50 = svm.SVC(kernel='linear', C=1).fit(X_train50, y_train50)\n",
    "clf50.score(X_test50, y_test50)"
   ]
  },
  {
   "cell_type": "code",
   "execution_count": 62,
   "id": "c8090ef7",
   "metadata": {},
   "outputs": [],
   "source": [
    "X_train25, X_test25, y_train25, y_test25 = train_test_split(imputed, xyz, test_size=0.25)"
   ]
  },
  {
   "cell_type": "code",
   "execution_count": 63,
   "id": "29e4f837",
   "metadata": {},
   "outputs": [
    {
     "name": "stdout",
     "output_type": "stream",
     "text": [
      "AutoML directory: AutoML_15\n",
      "The task is multiclass_classification with evaluation metric logloss\n",
      "AutoML will use algorithms: ['Decision Tree', 'Linear', 'Random Forest', 'Nearest Neighbors', 'Xgboost']\n",
      "AutoML will ensemble available models\n",
      "AutoML steps: ['simple_algorithms', 'default_algorithms', 'ensemble']\n",
      "* Step simple_algorithms will try to check up to 2 models\n",
      "1_DecisionTree logloss 0.840242 trained in 24.98 seconds\n",
      "2_Linear logloss 0.330437 trained in 20.24 seconds\n",
      "* Step default_algorithms will try to check up to 3 models\n",
      "3_Default_Xgboost logloss 0.089317 trained in 25.17 seconds\n",
      "4_Default_RandomForest logloss 0.722411 trained in 23.44 seconds\n"
     ]
    },
    {
     "name": "stderr",
     "output_type": "stream",
     "text": [
      "X does not have valid feature names, but KNeighborsClassifier was fitted with feature names\n",
      "X does not have valid feature names, but KNeighborsClassifier was fitted with feature names\n"
     ]
    },
    {
     "name": "stdout",
     "output_type": "stream",
     "text": [
      "Exception while producing SHAP explanations. 'NoneType' object has no attribute 'shap_values'\n",
      "Continuing ...\n",
      "5_Default_NearestNeighbors logloss 1.335658 trained in 4.52 seconds\n",
      "* Step ensemble will try to check up to 1 model\n",
      "Ensemble logloss 0.089317 trained in 0.34 seconds\n",
      "AutoML fit time: 138.93 seconds\n",
      "AutoML best model: 3_Default_Xgboost\n"
     ]
    },
    {
     "data": {
      "text/plain": [
       "AutoML(algorithms=['Decision Tree', 'Linear', 'Random Forest',\n",
       "                   'Nearest Neighbors', 'Xgboost'],\n",
       "       total_time_limit=300)"
      ]
     },
     "execution_count": 63,
     "metadata": {},
     "output_type": "execute_result"
    }
   ],
   "source": [
    "automl = AutoML(algorithms=[\"Decision Tree\", \"Linear\", \"Random Forest\", \"Nearest Neighbors\", \"Xgboost\"], total_time_limit=5*60)\n",
    "automl.fit(X_train25, y_train25)"
   ]
  },
  {
   "cell_type": "code",
   "execution_count": 64,
   "id": "ae8bc2bc",
   "metadata": {},
   "outputs": [
    {
     "name": "stdout",
     "output_type": "stream",
     "text": [
      "    Predicted  Target\n",
      "0           2       4\n",
      "1           0       0\n",
      "2           1       1\n",
      "3           4       4\n",
      "4           0       0\n",
      "5           3       5\n",
      "6           0       0\n",
      "7           0       0\n",
      "8           3       3\n",
      "9           5       5\n",
      "10          3       3\n",
      "11          0       0\n",
      "12          0       1\n",
      "13          1       0\n",
      "14          2       2\n",
      "15          4       4\n",
      "16          5       5\n",
      "17          3       3\n",
      "18          0       0\n",
      "19          5       5\n",
      "20          2       2\n"
     ]
    }
   ],
   "source": [
    "y_predicted25 = automl.predict(X_test25)\n",
    "y_predicted25 = pd.DataFrame(y_predicted25, columns={'Strain'})\n",
    "print(pd.DataFrame({\"Predicted\": y_predicted25[\"Strain\"], \"Target\": np.array(y_test25)}))"
   ]
  },
  {
   "cell_type": "code",
   "execution_count": 65,
   "id": "f5b04d68",
   "metadata": {},
   "outputs": [
    {
     "data": {
      "text/plain": [
       "0.8095238095238095"
      ]
     },
     "execution_count": 65,
     "metadata": {},
     "output_type": "execute_result"
    }
   ],
   "source": [
    "accuracy_auto(y_predicted25, y_test25)"
   ]
  },
  {
   "cell_type": "code",
   "execution_count": 67,
   "id": "0f24c8f7",
   "metadata": {},
   "outputs": [
    {
     "data": {
      "text/plain": [
       "0.7142857142857143"
      ]
     },
     "execution_count": 67,
     "metadata": {},
     "output_type": "execute_result"
    }
   ],
   "source": [
    "# Cross-Validation for 25:75 split\n",
    "from sklearn import svm\n",
    "clf25 = svm.SVC(kernel='linear', C=1).fit(X_train25, y_train25)\n",
    "clf25.score(X_test25, y_test25)"
   ]
  },
  {
   "cell_type": "code",
   "execution_count": null,
   "id": "c4cb2861",
   "metadata": {},
   "outputs": [],
   "source": []
  }
 ],
 "metadata": {
  "kernelspec": {
   "display_name": "Python 3",
   "language": "python",
   "name": "python3"
  },
  "language_info": {
   "codemirror_mode": {
    "name": "ipython",
    "version": 3
   },
   "file_extension": ".py",
   "mimetype": "text/x-python",
   "name": "python",
   "nbconvert_exporter": "python",
   "pygments_lexer": "ipython3",
   "version": "3.8.8"
  }
 },
 "nbformat": 4,
 "nbformat_minor": 5
}
