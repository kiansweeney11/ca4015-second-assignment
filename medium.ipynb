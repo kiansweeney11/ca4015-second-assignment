{
 "cells": [
  {
   "cell_type": "code",
   "execution_count": 1,
   "id": "7d137688",
   "metadata": {},
   "outputs": [],
   "source": [
    "import pandas as pd\n",
    "import numpy as np\n",
    "from pandas import ExcelWriter\n",
    "from pandas import ExcelFile\n",
    "from sklearn.datasets import make_classification\n",
    "from sklearn.model_selection import train_test_split\n",
    "import os\n",
    "from supervised.automl import AutoML\n",
    "\n",
    "from sklearn.metrics import accuracy_score\n",
    "from sklearn.model_selection import train_test_split\n",
    "from sklearn.model_selection import cross_val_score, GridSearchCV\n",
    "from sklearn.linear_model import LogisticRegression\n",
    "from sklearn.tree import DecisionTreeClassifier\n",
    "from sklearn.ensemble import RandomForestClassifier"
   ]
  },
  {
   "cell_type": "code",
   "execution_count": 4,
   "id": "3738cb5c",
   "metadata": {},
   "outputs": [],
   "source": [
    "data1 = pd.read_csv('data/cleaned_wide.csv', index_col='Unnamed: 0')"
   ]
  },
  {
   "cell_type": "code",
   "execution_count": 5,
   "id": "b90eeb15",
   "metadata": {},
   "outputs": [
    {
     "data": {
      "text/html": [
       "<div>\n",
       "<style scoped>\n",
       "    .dataframe tbody tr th:only-of-type {\n",
       "        vertical-align: middle;\n",
       "    }\n",
       "\n",
       "    .dataframe tbody tr th {\n",
       "        vertical-align: top;\n",
       "    }\n",
       "\n",
       "    .dataframe thead th {\n",
       "        text-align: right;\n",
       "    }\n",
       "</style>\n",
       "<table border=\"1\" class=\"dataframe\">\n",
       "  <thead>\n",
       "    <tr style=\"text-align: right;\">\n",
       "      <th></th>\n",
       "      <th>Species</th>\n",
       "      <th>Strain</th>\n",
       "      <th>Samples</th>\n",
       "      <th>Ethyl Acetate</th>\n",
       "      <th>Ethanol</th>\n",
       "      <th>Propanoic acid, ethyl ester</th>\n",
       "      <th>2-Pentanone</th>\n",
       "      <th>Decane</th>\n",
       "      <th>Methyl Isobutyl Ketone</th>\n",
       "      <th>Amylene hydrate</th>\n",
       "      <th>...</th>\n",
       "      <th>1-Dodecanol</th>\n",
       "      <th>Methyl tetradecanoate</th>\n",
       "      <th>2-Pentadecanone</th>\n",
       "      <th>Tetradecanoic acid, ethyl ester</th>\n",
       "      <th>Hexadecanal</th>\n",
       "      <th>n-Tridecan-1-ol</th>\n",
       "      <th>1-Tetradecanol</th>\n",
       "      <th>n-Pentadecanol</th>\n",
       "      <th>1-Hexadecanol</th>\n",
       "      <th>Indole</th>\n",
       "    </tr>\n",
       "  </thead>\n",
       "  <tbody>\n",
       "    <tr>\n",
       "      <th>3</th>\n",
       "      <td>SA</td>\n",
       "      <td>SA_A</td>\n",
       "      <td>SA.A_TSB_A</td>\n",
       "      <td>465374.0</td>\n",
       "      <td>1027715</td>\n",
       "      <td>NaN</td>\n",
       "      <td>1289650</td>\n",
       "      <td>800581</td>\n",
       "      <td>324424.0</td>\n",
       "      <td>73015</td>\n",
       "      <td>...</td>\n",
       "      <td>NaN</td>\n",
       "      <td>NaN</td>\n",
       "      <td>NaN</td>\n",
       "      <td>NaN</td>\n",
       "      <td>NaN</td>\n",
       "      <td>NaN</td>\n",
       "      <td>NaN</td>\n",
       "      <td>NaN</td>\n",
       "      <td>NaN</td>\n",
       "      <td>NaN</td>\n",
       "    </tr>\n",
       "    <tr>\n",
       "      <th>4</th>\n",
       "      <td>SA</td>\n",
       "      <td>SA_A</td>\n",
       "      <td>SA.A_TSB_B</td>\n",
       "      <td>193151.0</td>\n",
       "      <td>1050974</td>\n",
       "      <td>NaN</td>\n",
       "      <td>504113</td>\n",
       "      <td>294680</td>\n",
       "      <td>189630.0</td>\n",
       "      <td>0</td>\n",
       "      <td>...</td>\n",
       "      <td>NaN</td>\n",
       "      <td>NaN</td>\n",
       "      <td>NaN</td>\n",
       "      <td>NaN</td>\n",
       "      <td>NaN</td>\n",
       "      <td>NaN</td>\n",
       "      <td>NaN</td>\n",
       "      <td>NaN</td>\n",
       "      <td>NaN</td>\n",
       "      <td>NaN</td>\n",
       "    </tr>\n",
       "    <tr>\n",
       "      <th>5</th>\n",
       "      <td>SA</td>\n",
       "      <td>SA_A</td>\n",
       "      <td>SA.A_TSB_C</td>\n",
       "      <td>403286.0</td>\n",
       "      <td>1850391</td>\n",
       "      <td>NaN</td>\n",
       "      <td>1169501</td>\n",
       "      <td>15</td>\n",
       "      <td>228163.0</td>\n",
       "      <td>73558</td>\n",
       "      <td>...</td>\n",
       "      <td>NaN</td>\n",
       "      <td>NaN</td>\n",
       "      <td>NaN</td>\n",
       "      <td>NaN</td>\n",
       "      <td>NaN</td>\n",
       "      <td>NaN</td>\n",
       "      <td>NaN</td>\n",
       "      <td>NaN</td>\n",
       "      <td>NaN</td>\n",
       "      <td>NaN</td>\n",
       "    </tr>\n",
       "    <tr>\n",
       "      <th>6</th>\n",
       "      <td>SA</td>\n",
       "      <td>SA_A</td>\n",
       "      <td>SA.A_TSB_D</td>\n",
       "      <td>129833.0</td>\n",
       "      <td>5140770</td>\n",
       "      <td>NaN</td>\n",
       "      <td>1926072</td>\n",
       "      <td>124282</td>\n",
       "      <td>0.0</td>\n",
       "      <td>188367</td>\n",
       "      <td>...</td>\n",
       "      <td>NaN</td>\n",
       "      <td>NaN</td>\n",
       "      <td>NaN</td>\n",
       "      <td>NaN</td>\n",
       "      <td>NaN</td>\n",
       "      <td>NaN</td>\n",
       "      <td>NaN</td>\n",
       "      <td>NaN</td>\n",
       "      <td>NaN</td>\n",
       "      <td>NaN</td>\n",
       "    </tr>\n",
       "    <tr>\n",
       "      <th>7</th>\n",
       "      <td>SA</td>\n",
       "      <td>SA_A</td>\n",
       "      <td>SA.A_TSB_E</td>\n",
       "      <td>117105.0</td>\n",
       "      <td>3422557</td>\n",
       "      <td>NaN</td>\n",
       "      <td>246751</td>\n",
       "      <td>0</td>\n",
       "      <td>0.0</td>\n",
       "      <td>0</td>\n",
       "      <td>...</td>\n",
       "      <td>NaN</td>\n",
       "      <td>NaN</td>\n",
       "      <td>NaN</td>\n",
       "      <td>NaN</td>\n",
       "      <td>NaN</td>\n",
       "      <td>NaN</td>\n",
       "      <td>NaN</td>\n",
       "      <td>NaN</td>\n",
       "      <td>NaN</td>\n",
       "      <td>NaN</td>\n",
       "    </tr>\n",
       "    <tr>\n",
       "      <th>...</th>\n",
       "      <td>...</td>\n",
       "      <td>...</td>\n",
       "      <td>...</td>\n",
       "      <td>...</td>\n",
       "      <td>...</td>\n",
       "      <td>...</td>\n",
       "      <td>...</td>\n",
       "      <td>...</td>\n",
       "      <td>...</td>\n",
       "      <td>...</td>\n",
       "      <td>...</td>\n",
       "      <td>...</td>\n",
       "      <td>...</td>\n",
       "      <td>...</td>\n",
       "      <td>...</td>\n",
       "      <td>...</td>\n",
       "      <td>...</td>\n",
       "      <td>...</td>\n",
       "      <td>...</td>\n",
       "      <td>...</td>\n",
       "      <td>...</td>\n",
       "    </tr>\n",
       "    <tr>\n",
       "      <th>82</th>\n",
       "      <td>EC</td>\n",
       "      <td>EC_B</td>\n",
       "      <td>EC.B_TSB_A</td>\n",
       "      <td>119313.0</td>\n",
       "      <td>1364553</td>\n",
       "      <td>0.0</td>\n",
       "      <td>169495</td>\n",
       "      <td>0</td>\n",
       "      <td>NaN</td>\n",
       "      <td>0</td>\n",
       "      <td>...</td>\n",
       "      <td>289615.0</td>\n",
       "      <td>0.0</td>\n",
       "      <td>0.0</td>\n",
       "      <td>0.0</td>\n",
       "      <td>0.0</td>\n",
       "      <td>0.0</td>\n",
       "      <td>0.0</td>\n",
       "      <td>0.0</td>\n",
       "      <td>0.0</td>\n",
       "      <td>60325589.0</td>\n",
       "    </tr>\n",
       "    <tr>\n",
       "      <th>83</th>\n",
       "      <td>EC</td>\n",
       "      <td>EC_B</td>\n",
       "      <td>EC.B_TSB_B</td>\n",
       "      <td>128397.0</td>\n",
       "      <td>1451138</td>\n",
       "      <td>0.0</td>\n",
       "      <td>359499</td>\n",
       "      <td>0</td>\n",
       "      <td>NaN</td>\n",
       "      <td>0</td>\n",
       "      <td>...</td>\n",
       "      <td>749942.0</td>\n",
       "      <td>0.0</td>\n",
       "      <td>0.0</td>\n",
       "      <td>0.0</td>\n",
       "      <td>0.0</td>\n",
       "      <td>0.0</td>\n",
       "      <td>78672.0</td>\n",
       "      <td>0.0</td>\n",
       "      <td>0.0</td>\n",
       "      <td>107880324.0</td>\n",
       "    </tr>\n",
       "    <tr>\n",
       "      <th>84</th>\n",
       "      <td>EC</td>\n",
       "      <td>EC_B</td>\n",
       "      <td>EC.B_TSB_C</td>\n",
       "      <td>309004.0</td>\n",
       "      <td>5650813</td>\n",
       "      <td>0.0</td>\n",
       "      <td>875905</td>\n",
       "      <td>0</td>\n",
       "      <td>NaN</td>\n",
       "      <td>109170</td>\n",
       "      <td>...</td>\n",
       "      <td>479315.0</td>\n",
       "      <td>0.0</td>\n",
       "      <td>0.0</td>\n",
       "      <td>0.0</td>\n",
       "      <td>0.0</td>\n",
       "      <td>0.0</td>\n",
       "      <td>84426.0</td>\n",
       "      <td>0.0</td>\n",
       "      <td>0.0</td>\n",
       "      <td>72102392.0</td>\n",
       "    </tr>\n",
       "    <tr>\n",
       "      <th>85</th>\n",
       "      <td>EC</td>\n",
       "      <td>EC_B</td>\n",
       "      <td>EC.B_TSB_D</td>\n",
       "      <td>548442.0</td>\n",
       "      <td>3588158</td>\n",
       "      <td>0.0</td>\n",
       "      <td>637563</td>\n",
       "      <td>0</td>\n",
       "      <td>NaN</td>\n",
       "      <td>60834</td>\n",
       "      <td>...</td>\n",
       "      <td>2750809.0</td>\n",
       "      <td>0.0</td>\n",
       "      <td>0.0</td>\n",
       "      <td>0.0</td>\n",
       "      <td>0.0</td>\n",
       "      <td>0.0</td>\n",
       "      <td>146349.0</td>\n",
       "      <td>0.0</td>\n",
       "      <td>0.0</td>\n",
       "      <td>85257546.0</td>\n",
       "    </tr>\n",
       "    <tr>\n",
       "      <th>86</th>\n",
       "      <td>EC</td>\n",
       "      <td>EC_B</td>\n",
       "      <td>EC.B_TSB_E</td>\n",
       "      <td>339404.0</td>\n",
       "      <td>3962927</td>\n",
       "      <td>0.0</td>\n",
       "      <td>2988409</td>\n",
       "      <td>348154</td>\n",
       "      <td>NaN</td>\n",
       "      <td>694251</td>\n",
       "      <td>...</td>\n",
       "      <td>8172616.0</td>\n",
       "      <td>698476.0</td>\n",
       "      <td>382222.0</td>\n",
       "      <td>0.0</td>\n",
       "      <td>0.0</td>\n",
       "      <td>0.0</td>\n",
       "      <td>635257.0</td>\n",
       "      <td>0.0</td>\n",
       "      <td>482026.0</td>\n",
       "      <td>97156549.0</td>\n",
       "    </tr>\n",
       "  </tbody>\n",
       "</table>\n",
       "<p>84 rows × 70 columns</p>\n",
       "</div>"
      ],
      "text/plain": [
       "   Species Strain    Samples    Ethyl Acetate  Ethanol  \\\n",
       "3       SA   SA_A  SA.A_TSB_A        465374.0  1027715   \n",
       "4       SA   SA_A  SA.A_TSB_B        193151.0  1050974   \n",
       "5       SA   SA_A  SA.A_TSB_C        403286.0  1850391   \n",
       "6       SA   SA_A  SA.A_TSB_D        129833.0  5140770   \n",
       "7       SA   SA_A  SA.A_TSB_E        117105.0  3422557   \n",
       "..     ...    ...         ...             ...      ...   \n",
       "82      EC   EC_B  EC.B_TSB_A        119313.0  1364553   \n",
       "83      EC   EC_B  EC.B_TSB_B        128397.0  1451138   \n",
       "84      EC   EC_B  EC.B_TSB_C        309004.0  5650813   \n",
       "85      EC   EC_B  EC.B_TSB_D        548442.0  3588158   \n",
       "86      EC   EC_B  EC.B_TSB_E        339404.0  3962927   \n",
       "\n",
       "    Propanoic acid, ethyl ester  2-Pentanone  Decane  Methyl Isobutyl Ketone  \\\n",
       "3                           NaN      1289650  800581                324424.0   \n",
       "4                           NaN       504113  294680                189630.0   \n",
       "5                           NaN      1169501      15                228163.0   \n",
       "6                           NaN      1926072  124282                     0.0   \n",
       "7                           NaN       246751       0                     0.0   \n",
       "..                          ...          ...     ...                     ...   \n",
       "82                          0.0       169495       0                     NaN   \n",
       "83                          0.0       359499       0                     NaN   \n",
       "84                          0.0       875905       0                     NaN   \n",
       "85                          0.0       637563       0                     NaN   \n",
       "86                          0.0      2988409  348154                     NaN   \n",
       "\n",
       "    Amylene hydrate  ...  1-Dodecanol  Methyl tetradecanoate  \\\n",
       "3             73015  ...          NaN                    NaN   \n",
       "4                 0  ...          NaN                    NaN   \n",
       "5             73558  ...          NaN                    NaN   \n",
       "6            188367  ...          NaN                    NaN   \n",
       "7                 0  ...          NaN                    NaN   \n",
       "..              ...  ...          ...                    ...   \n",
       "82                0  ...     289615.0                    0.0   \n",
       "83                0  ...     749942.0                    0.0   \n",
       "84           109170  ...     479315.0                    0.0   \n",
       "85            60834  ...    2750809.0                    0.0   \n",
       "86           694251  ...    8172616.0               698476.0   \n",
       "\n",
       "     2-Pentadecanone  Tetradecanoic acid, ethyl ester  Hexadecanal  \\\n",
       "3                NaN                              NaN          NaN   \n",
       "4                NaN                              NaN          NaN   \n",
       "5                NaN                              NaN          NaN   \n",
       "6                NaN                              NaN          NaN   \n",
       "7                NaN                              NaN          NaN   \n",
       "..               ...                              ...          ...   \n",
       "82               0.0                              0.0          0.0   \n",
       "83               0.0                              0.0          0.0   \n",
       "84               0.0                              0.0          0.0   \n",
       "85               0.0                              0.0          0.0   \n",
       "86          382222.0                              0.0          0.0   \n",
       "\n",
       "    n-Tridecan-1-ol  1-Tetradecanol  n-Pentadecanol   1-Hexadecanol  \\\n",
       "3               NaN             NaN             NaN             NaN   \n",
       "4               NaN             NaN             NaN             NaN   \n",
       "5               NaN             NaN             NaN             NaN   \n",
       "6               NaN             NaN             NaN             NaN   \n",
       "7               NaN             NaN             NaN             NaN   \n",
       "..              ...             ...             ...             ...   \n",
       "82              0.0             0.0             0.0             0.0   \n",
       "83              0.0         78672.0             0.0             0.0   \n",
       "84              0.0         84426.0             0.0             0.0   \n",
       "85              0.0        146349.0             0.0             0.0   \n",
       "86              0.0        635257.0             0.0        482026.0   \n",
       "\n",
       "         Indole  \n",
       "3           NaN  \n",
       "4           NaN  \n",
       "5           NaN  \n",
       "6           NaN  \n",
       "7           NaN  \n",
       "..          ...  \n",
       "82   60325589.0  \n",
       "83  107880324.0  \n",
       "84   72102392.0  \n",
       "85   85257546.0  \n",
       "86   97156549.0  \n",
       "\n",
       "[84 rows x 70 columns]"
      ]
     },
     "execution_count": 5,
     "metadata": {},
     "output_type": "execute_result"
    }
   ],
   "source": [
    "data1"
   ]
  },
  {
   "cell_type": "code",
   "execution_count": 11,
   "id": "f23b5cdc",
   "metadata": {},
   "outputs": [],
   "source": [
    "samples = data1['Samples ']\n",
    "samples = np.array(samples)\n",
    "i = 0\n",
    "medium = []\n",
    "while i < len(samples):\n",
    "    split = samples[i].split('_')\n",
    "    medium.append(split[1])\n",
    "    i += 1"
   ]
  },
  {
   "cell_type": "code",
   "execution_count": 12,
   "id": "1fcfd346",
   "metadata": {},
   "outputs": [
    {
     "data": {
      "text/plain": [
       "['TSB',\n",
       " 'TSB',\n",
       " 'TSB',\n",
       " 'TSB',\n",
       " 'TSB',\n",
       " 'TSB',\n",
       " 'TSB',\n",
       " 'TSB',\n",
       " 'TSB',\n",
       " 'TSB',\n",
       " 'BHI',\n",
       " 'BHI',\n",
       " 'BHI',\n",
       " 'BHI',\n",
       " 'BHI',\n",
       " 'BHI',\n",
       " 'BHI',\n",
       " 'BHI',\n",
       " 'BHI',\n",
       " 'BHI',\n",
       " 'LB',\n",
       " 'LB',\n",
       " 'LB',\n",
       " 'LB',\n",
       " 'LB',\n",
       " 'LB',\n",
       " 'LB',\n",
       " 'LB',\n",
       " 'LB',\n",
       " 'LB',\n",
       " 'BHI',\n",
       " 'BHI',\n",
       " 'BHI',\n",
       " 'BHI',\n",
       " 'BHI',\n",
       " 'BHI',\n",
       " 'BHI',\n",
       " 'BHI',\n",
       " 'BHI',\n",
       " 'BHI',\n",
       " 'LB',\n",
       " 'LB',\n",
       " 'LB',\n",
       " 'LB',\n",
       " 'LB',\n",
       " 'LB',\n",
       " 'LB',\n",
       " 'LB',\n",
       " 'LB',\n",
       " 'LB',\n",
       " 'TSB',\n",
       " 'TSB',\n",
       " 'TSB',\n",
       " 'TSB',\n",
       " 'TSB',\n",
       " 'TSB',\n",
       " 'TSB',\n",
       " 'BHI',\n",
       " 'BHI',\n",
       " 'BHI',\n",
       " 'BHI',\n",
       " 'BHI',\n",
       " 'BHI',\n",
       " 'BHI',\n",
       " 'LB',\n",
       " 'LB',\n",
       " 'LB',\n",
       " 'LB',\n",
       " 'LB',\n",
       " 'LB',\n",
       " 'LB',\n",
       " 'LB',\n",
       " 'LB',\n",
       " 'LB',\n",
       " 'TSB',\n",
       " 'TSB',\n",
       " 'TSB',\n",
       " 'TSB',\n",
       " 'TSB',\n",
       " 'TSB',\n",
       " 'TSB',\n",
       " 'TSB',\n",
       " 'TSB',\n",
       " 'TSB']"
      ]
     },
     "execution_count": 12,
     "metadata": {},
     "output_type": "execute_result"
    }
   ],
   "source": [
    "medium"
   ]
  },
  {
   "cell_type": "code",
   "execution_count": 14,
   "id": "f7f36ea6",
   "metadata": {},
   "outputs": [],
   "source": [
    "medium = np.array(medium)\n",
    "data1['Medium'] = medium.tolist()"
   ]
  },
  {
   "cell_type": "code",
   "execution_count": 15,
   "id": "64c47a0b",
   "metadata": {},
   "outputs": [
    {
     "data": {
      "text/html": [
       "<div>\n",
       "<style scoped>\n",
       "    .dataframe tbody tr th:only-of-type {\n",
       "        vertical-align: middle;\n",
       "    }\n",
       "\n",
       "    .dataframe tbody tr th {\n",
       "        vertical-align: top;\n",
       "    }\n",
       "\n",
       "    .dataframe thead th {\n",
       "        text-align: right;\n",
       "    }\n",
       "</style>\n",
       "<table border=\"1\" class=\"dataframe\">\n",
       "  <thead>\n",
       "    <tr style=\"text-align: right;\">\n",
       "      <th></th>\n",
       "      <th>Species</th>\n",
       "      <th>Strain</th>\n",
       "      <th>Samples</th>\n",
       "      <th>Ethyl Acetate</th>\n",
       "      <th>Ethanol</th>\n",
       "      <th>Propanoic acid, ethyl ester</th>\n",
       "      <th>2-Pentanone</th>\n",
       "      <th>Decane</th>\n",
       "      <th>Methyl Isobutyl Ketone</th>\n",
       "      <th>Amylene hydrate</th>\n",
       "      <th>...</th>\n",
       "      <th>Methyl tetradecanoate</th>\n",
       "      <th>2-Pentadecanone</th>\n",
       "      <th>Tetradecanoic acid, ethyl ester</th>\n",
       "      <th>Hexadecanal</th>\n",
       "      <th>n-Tridecan-1-ol</th>\n",
       "      <th>1-Tetradecanol</th>\n",
       "      <th>n-Pentadecanol</th>\n",
       "      <th>1-Hexadecanol</th>\n",
       "      <th>Indole</th>\n",
       "      <th>Medium</th>\n",
       "    </tr>\n",
       "  </thead>\n",
       "  <tbody>\n",
       "    <tr>\n",
       "      <th>3</th>\n",
       "      <td>SA</td>\n",
       "      <td>SA_A</td>\n",
       "      <td>SA.A_TSB_A</td>\n",
       "      <td>465374.0</td>\n",
       "      <td>1027715</td>\n",
       "      <td>NaN</td>\n",
       "      <td>1289650</td>\n",
       "      <td>800581</td>\n",
       "      <td>324424.0</td>\n",
       "      <td>73015</td>\n",
       "      <td>...</td>\n",
       "      <td>NaN</td>\n",
       "      <td>NaN</td>\n",
       "      <td>NaN</td>\n",
       "      <td>NaN</td>\n",
       "      <td>NaN</td>\n",
       "      <td>NaN</td>\n",
       "      <td>NaN</td>\n",
       "      <td>NaN</td>\n",
       "      <td>NaN</td>\n",
       "      <td>TSB</td>\n",
       "    </tr>\n",
       "    <tr>\n",
       "      <th>4</th>\n",
       "      <td>SA</td>\n",
       "      <td>SA_A</td>\n",
       "      <td>SA.A_TSB_B</td>\n",
       "      <td>193151.0</td>\n",
       "      <td>1050974</td>\n",
       "      <td>NaN</td>\n",
       "      <td>504113</td>\n",
       "      <td>294680</td>\n",
       "      <td>189630.0</td>\n",
       "      <td>0</td>\n",
       "      <td>...</td>\n",
       "      <td>NaN</td>\n",
       "      <td>NaN</td>\n",
       "      <td>NaN</td>\n",
       "      <td>NaN</td>\n",
       "      <td>NaN</td>\n",
       "      <td>NaN</td>\n",
       "      <td>NaN</td>\n",
       "      <td>NaN</td>\n",
       "      <td>NaN</td>\n",
       "      <td>TSB</td>\n",
       "    </tr>\n",
       "    <tr>\n",
       "      <th>5</th>\n",
       "      <td>SA</td>\n",
       "      <td>SA_A</td>\n",
       "      <td>SA.A_TSB_C</td>\n",
       "      <td>403286.0</td>\n",
       "      <td>1850391</td>\n",
       "      <td>NaN</td>\n",
       "      <td>1169501</td>\n",
       "      <td>15</td>\n",
       "      <td>228163.0</td>\n",
       "      <td>73558</td>\n",
       "      <td>...</td>\n",
       "      <td>NaN</td>\n",
       "      <td>NaN</td>\n",
       "      <td>NaN</td>\n",
       "      <td>NaN</td>\n",
       "      <td>NaN</td>\n",
       "      <td>NaN</td>\n",
       "      <td>NaN</td>\n",
       "      <td>NaN</td>\n",
       "      <td>NaN</td>\n",
       "      <td>TSB</td>\n",
       "    </tr>\n",
       "    <tr>\n",
       "      <th>6</th>\n",
       "      <td>SA</td>\n",
       "      <td>SA_A</td>\n",
       "      <td>SA.A_TSB_D</td>\n",
       "      <td>129833.0</td>\n",
       "      <td>5140770</td>\n",
       "      <td>NaN</td>\n",
       "      <td>1926072</td>\n",
       "      <td>124282</td>\n",
       "      <td>0.0</td>\n",
       "      <td>188367</td>\n",
       "      <td>...</td>\n",
       "      <td>NaN</td>\n",
       "      <td>NaN</td>\n",
       "      <td>NaN</td>\n",
       "      <td>NaN</td>\n",
       "      <td>NaN</td>\n",
       "      <td>NaN</td>\n",
       "      <td>NaN</td>\n",
       "      <td>NaN</td>\n",
       "      <td>NaN</td>\n",
       "      <td>TSB</td>\n",
       "    </tr>\n",
       "    <tr>\n",
       "      <th>7</th>\n",
       "      <td>SA</td>\n",
       "      <td>SA_A</td>\n",
       "      <td>SA.A_TSB_E</td>\n",
       "      <td>117105.0</td>\n",
       "      <td>3422557</td>\n",
       "      <td>NaN</td>\n",
       "      <td>246751</td>\n",
       "      <td>0</td>\n",
       "      <td>0.0</td>\n",
       "      <td>0</td>\n",
       "      <td>...</td>\n",
       "      <td>NaN</td>\n",
       "      <td>NaN</td>\n",
       "      <td>NaN</td>\n",
       "      <td>NaN</td>\n",
       "      <td>NaN</td>\n",
       "      <td>NaN</td>\n",
       "      <td>NaN</td>\n",
       "      <td>NaN</td>\n",
       "      <td>NaN</td>\n",
       "      <td>TSB</td>\n",
       "    </tr>\n",
       "    <tr>\n",
       "      <th>...</th>\n",
       "      <td>...</td>\n",
       "      <td>...</td>\n",
       "      <td>...</td>\n",
       "      <td>...</td>\n",
       "      <td>...</td>\n",
       "      <td>...</td>\n",
       "      <td>...</td>\n",
       "      <td>...</td>\n",
       "      <td>...</td>\n",
       "      <td>...</td>\n",
       "      <td>...</td>\n",
       "      <td>...</td>\n",
       "      <td>...</td>\n",
       "      <td>...</td>\n",
       "      <td>...</td>\n",
       "      <td>...</td>\n",
       "      <td>...</td>\n",
       "      <td>...</td>\n",
       "      <td>...</td>\n",
       "      <td>...</td>\n",
       "      <td>...</td>\n",
       "    </tr>\n",
       "    <tr>\n",
       "      <th>82</th>\n",
       "      <td>EC</td>\n",
       "      <td>EC_B</td>\n",
       "      <td>EC.B_TSB_A</td>\n",
       "      <td>119313.0</td>\n",
       "      <td>1364553</td>\n",
       "      <td>0.0</td>\n",
       "      <td>169495</td>\n",
       "      <td>0</td>\n",
       "      <td>NaN</td>\n",
       "      <td>0</td>\n",
       "      <td>...</td>\n",
       "      <td>0.0</td>\n",
       "      <td>0.0</td>\n",
       "      <td>0.0</td>\n",
       "      <td>0.0</td>\n",
       "      <td>0.0</td>\n",
       "      <td>0.0</td>\n",
       "      <td>0.0</td>\n",
       "      <td>0.0</td>\n",
       "      <td>60325589.0</td>\n",
       "      <td>TSB</td>\n",
       "    </tr>\n",
       "    <tr>\n",
       "      <th>83</th>\n",
       "      <td>EC</td>\n",
       "      <td>EC_B</td>\n",
       "      <td>EC.B_TSB_B</td>\n",
       "      <td>128397.0</td>\n",
       "      <td>1451138</td>\n",
       "      <td>0.0</td>\n",
       "      <td>359499</td>\n",
       "      <td>0</td>\n",
       "      <td>NaN</td>\n",
       "      <td>0</td>\n",
       "      <td>...</td>\n",
       "      <td>0.0</td>\n",
       "      <td>0.0</td>\n",
       "      <td>0.0</td>\n",
       "      <td>0.0</td>\n",
       "      <td>0.0</td>\n",
       "      <td>78672.0</td>\n",
       "      <td>0.0</td>\n",
       "      <td>0.0</td>\n",
       "      <td>107880324.0</td>\n",
       "      <td>TSB</td>\n",
       "    </tr>\n",
       "    <tr>\n",
       "      <th>84</th>\n",
       "      <td>EC</td>\n",
       "      <td>EC_B</td>\n",
       "      <td>EC.B_TSB_C</td>\n",
       "      <td>309004.0</td>\n",
       "      <td>5650813</td>\n",
       "      <td>0.0</td>\n",
       "      <td>875905</td>\n",
       "      <td>0</td>\n",
       "      <td>NaN</td>\n",
       "      <td>109170</td>\n",
       "      <td>...</td>\n",
       "      <td>0.0</td>\n",
       "      <td>0.0</td>\n",
       "      <td>0.0</td>\n",
       "      <td>0.0</td>\n",
       "      <td>0.0</td>\n",
       "      <td>84426.0</td>\n",
       "      <td>0.0</td>\n",
       "      <td>0.0</td>\n",
       "      <td>72102392.0</td>\n",
       "      <td>TSB</td>\n",
       "    </tr>\n",
       "    <tr>\n",
       "      <th>85</th>\n",
       "      <td>EC</td>\n",
       "      <td>EC_B</td>\n",
       "      <td>EC.B_TSB_D</td>\n",
       "      <td>548442.0</td>\n",
       "      <td>3588158</td>\n",
       "      <td>0.0</td>\n",
       "      <td>637563</td>\n",
       "      <td>0</td>\n",
       "      <td>NaN</td>\n",
       "      <td>60834</td>\n",
       "      <td>...</td>\n",
       "      <td>0.0</td>\n",
       "      <td>0.0</td>\n",
       "      <td>0.0</td>\n",
       "      <td>0.0</td>\n",
       "      <td>0.0</td>\n",
       "      <td>146349.0</td>\n",
       "      <td>0.0</td>\n",
       "      <td>0.0</td>\n",
       "      <td>85257546.0</td>\n",
       "      <td>TSB</td>\n",
       "    </tr>\n",
       "    <tr>\n",
       "      <th>86</th>\n",
       "      <td>EC</td>\n",
       "      <td>EC_B</td>\n",
       "      <td>EC.B_TSB_E</td>\n",
       "      <td>339404.0</td>\n",
       "      <td>3962927</td>\n",
       "      <td>0.0</td>\n",
       "      <td>2988409</td>\n",
       "      <td>348154</td>\n",
       "      <td>NaN</td>\n",
       "      <td>694251</td>\n",
       "      <td>...</td>\n",
       "      <td>698476.0</td>\n",
       "      <td>382222.0</td>\n",
       "      <td>0.0</td>\n",
       "      <td>0.0</td>\n",
       "      <td>0.0</td>\n",
       "      <td>635257.0</td>\n",
       "      <td>0.0</td>\n",
       "      <td>482026.0</td>\n",
       "      <td>97156549.0</td>\n",
       "      <td>TSB</td>\n",
       "    </tr>\n",
       "  </tbody>\n",
       "</table>\n",
       "<p>84 rows × 71 columns</p>\n",
       "</div>"
      ],
      "text/plain": [
       "   Species Strain    Samples    Ethyl Acetate  Ethanol  \\\n",
       "3       SA   SA_A  SA.A_TSB_A        465374.0  1027715   \n",
       "4       SA   SA_A  SA.A_TSB_B        193151.0  1050974   \n",
       "5       SA   SA_A  SA.A_TSB_C        403286.0  1850391   \n",
       "6       SA   SA_A  SA.A_TSB_D        129833.0  5140770   \n",
       "7       SA   SA_A  SA.A_TSB_E        117105.0  3422557   \n",
       "..     ...    ...         ...             ...      ...   \n",
       "82      EC   EC_B  EC.B_TSB_A        119313.0  1364553   \n",
       "83      EC   EC_B  EC.B_TSB_B        128397.0  1451138   \n",
       "84      EC   EC_B  EC.B_TSB_C        309004.0  5650813   \n",
       "85      EC   EC_B  EC.B_TSB_D        548442.0  3588158   \n",
       "86      EC   EC_B  EC.B_TSB_E        339404.0  3962927   \n",
       "\n",
       "    Propanoic acid, ethyl ester  2-Pentanone  Decane  Methyl Isobutyl Ketone  \\\n",
       "3                           NaN      1289650  800581                324424.0   \n",
       "4                           NaN       504113  294680                189630.0   \n",
       "5                           NaN      1169501      15                228163.0   \n",
       "6                           NaN      1926072  124282                     0.0   \n",
       "7                           NaN       246751       0                     0.0   \n",
       "..                          ...          ...     ...                     ...   \n",
       "82                          0.0       169495       0                     NaN   \n",
       "83                          0.0       359499       0                     NaN   \n",
       "84                          0.0       875905       0                     NaN   \n",
       "85                          0.0       637563       0                     NaN   \n",
       "86                          0.0      2988409  348154                     NaN   \n",
       "\n",
       "    Amylene hydrate  ...  Methyl tetradecanoate   2-Pentadecanone  \\\n",
       "3             73015  ...                    NaN               NaN   \n",
       "4                 0  ...                    NaN               NaN   \n",
       "5             73558  ...                    NaN               NaN   \n",
       "6            188367  ...                    NaN               NaN   \n",
       "7                 0  ...                    NaN               NaN   \n",
       "..              ...  ...                    ...               ...   \n",
       "82                0  ...                    0.0               0.0   \n",
       "83                0  ...                    0.0               0.0   \n",
       "84           109170  ...                    0.0               0.0   \n",
       "85            60834  ...                    0.0               0.0   \n",
       "86           694251  ...               698476.0          382222.0   \n",
       "\n",
       "    Tetradecanoic acid, ethyl ester  Hexadecanal  n-Tridecan-1-ol  \\\n",
       "3                               NaN          NaN              NaN   \n",
       "4                               NaN          NaN              NaN   \n",
       "5                               NaN          NaN              NaN   \n",
       "6                               NaN          NaN              NaN   \n",
       "7                               NaN          NaN              NaN   \n",
       "..                              ...          ...              ...   \n",
       "82                              0.0          0.0              0.0   \n",
       "83                              0.0          0.0              0.0   \n",
       "84                              0.0          0.0              0.0   \n",
       "85                              0.0          0.0              0.0   \n",
       "86                              0.0          0.0              0.0   \n",
       "\n",
       "    1-Tetradecanol  n-Pentadecanol   1-Hexadecanol       Indole  Medium  \n",
       "3              NaN             NaN             NaN          NaN     TSB  \n",
       "4              NaN             NaN             NaN          NaN     TSB  \n",
       "5              NaN             NaN             NaN          NaN     TSB  \n",
       "6              NaN             NaN             NaN          NaN     TSB  \n",
       "7              NaN             NaN             NaN          NaN     TSB  \n",
       "..             ...             ...             ...          ...     ...  \n",
       "82             0.0             0.0             0.0   60325589.0     TSB  \n",
       "83         78672.0             0.0             0.0  107880324.0     TSB  \n",
       "84         84426.0             0.0             0.0   72102392.0     TSB  \n",
       "85        146349.0             0.0             0.0   85257546.0     TSB  \n",
       "86        635257.0             0.0        482026.0   97156549.0     TSB  \n",
       "\n",
       "[84 rows x 71 columns]"
      ]
     },
     "execution_count": 15,
     "metadata": {},
     "output_type": "execute_result"
    }
   ],
   "source": [
    "data1"
   ]
  },
  {
   "cell_type": "code",
   "execution_count": 16,
   "id": "64542a58",
   "metadata": {},
   "outputs": [],
   "source": [
    "imputed = pd.read_csv('data/imputed_wide.csv', index_col='Unnamed: 0')"
   ]
  },
  {
   "cell_type": "code",
   "execution_count": 17,
   "id": "450ddfd5",
   "metadata": {},
   "outputs": [
    {
     "data": {
      "text/html": [
       "<div>\n",
       "<style scoped>\n",
       "    .dataframe tbody tr th:only-of-type {\n",
       "        vertical-align: middle;\n",
       "    }\n",
       "\n",
       "    .dataframe tbody tr th {\n",
       "        vertical-align: top;\n",
       "    }\n",
       "\n",
       "    .dataframe thead th {\n",
       "        text-align: right;\n",
       "    }\n",
       "</style>\n",
       "<table border=\"1\" class=\"dataframe\">\n",
       "  <thead>\n",
       "    <tr style=\"text-align: right;\">\n",
       "      <th></th>\n",
       "      <th>Ethyl Acetate</th>\n",
       "      <th>Ethanol</th>\n",
       "      <th>Propanoic acid, ethyl ester</th>\n",
       "      <th>2-Pentanone</th>\n",
       "      <th>Decane</th>\n",
       "      <th>Methyl Isobutyl Ketone</th>\n",
       "      <th>Amylene hydrate</th>\n",
       "      <th>Butanoic acid, 2-methyl-, methyl ester</th>\n",
       "      <th>Isobutyl acetate</th>\n",
       "      <th>Methyl isovalerate</th>\n",
       "      <th>...</th>\n",
       "      <th>1-Dodecanol</th>\n",
       "      <th>Methyl tetradecanoate</th>\n",
       "      <th>2-Pentadecanone</th>\n",
       "      <th>Tetradecanoic acid, ethyl ester</th>\n",
       "      <th>Hexadecanal</th>\n",
       "      <th>n-Tridecan-1-ol</th>\n",
       "      <th>1-Tetradecanol</th>\n",
       "      <th>n-Pentadecanol</th>\n",
       "      <th>1-Hexadecanol</th>\n",
       "      <th>Indole</th>\n",
       "    </tr>\n",
       "  </thead>\n",
       "  <tbody>\n",
       "    <tr>\n",
       "      <th>0</th>\n",
       "      <td>465374.0</td>\n",
       "      <td>1027715.0</td>\n",
       "      <td>17989.407407</td>\n",
       "      <td>1289650.0</td>\n",
       "      <td>800581.0</td>\n",
       "      <td>324424.0</td>\n",
       "      <td>73015.0</td>\n",
       "      <td>287247.703704</td>\n",
       "      <td>46016.203704</td>\n",
       "      <td>0.0</td>\n",
       "      <td>...</td>\n",
       "      <td>2.098782e+06</td>\n",
       "      <td>97878.333333</td>\n",
       "      <td>85753.37037</td>\n",
       "      <td>10167.740741</td>\n",
       "      <td>94159.37037</td>\n",
       "      <td>85581.62963</td>\n",
       "      <td>586042.296296</td>\n",
       "      <td>173037.615385</td>\n",
       "      <td>662122.074074</td>\n",
       "      <td>82469063.0</td>\n",
       "    </tr>\n",
       "    <tr>\n",
       "      <th>1</th>\n",
       "      <td>193151.0</td>\n",
       "      <td>1050974.0</td>\n",
       "      <td>17989.407407</td>\n",
       "      <td>504113.0</td>\n",
       "      <td>294680.0</td>\n",
       "      <td>189630.0</td>\n",
       "      <td>0.0</td>\n",
       "      <td>287247.703704</td>\n",
       "      <td>46016.203704</td>\n",
       "      <td>0.0</td>\n",
       "      <td>...</td>\n",
       "      <td>2.098782e+06</td>\n",
       "      <td>97878.333333</td>\n",
       "      <td>85753.37037</td>\n",
       "      <td>10167.740741</td>\n",
       "      <td>94159.37037</td>\n",
       "      <td>85581.62963</td>\n",
       "      <td>586042.296296</td>\n",
       "      <td>173037.615385</td>\n",
       "      <td>662122.074074</td>\n",
       "      <td>82469063.0</td>\n",
       "    </tr>\n",
       "    <tr>\n",
       "      <th>2</th>\n",
       "      <td>403286.0</td>\n",
       "      <td>1850391.0</td>\n",
       "      <td>17989.407407</td>\n",
       "      <td>1169501.0</td>\n",
       "      <td>15.0</td>\n",
       "      <td>228163.0</td>\n",
       "      <td>73558.0</td>\n",
       "      <td>287247.703704</td>\n",
       "      <td>46016.203704</td>\n",
       "      <td>0.0</td>\n",
       "      <td>...</td>\n",
       "      <td>2.098782e+06</td>\n",
       "      <td>97878.333333</td>\n",
       "      <td>85753.37037</td>\n",
       "      <td>10167.740741</td>\n",
       "      <td>94159.37037</td>\n",
       "      <td>85581.62963</td>\n",
       "      <td>586042.296296</td>\n",
       "      <td>173037.615385</td>\n",
       "      <td>662122.074074</td>\n",
       "      <td>82469063.0</td>\n",
       "    </tr>\n",
       "    <tr>\n",
       "      <th>3</th>\n",
       "      <td>129833.0</td>\n",
       "      <td>5140770.0</td>\n",
       "      <td>17989.407407</td>\n",
       "      <td>1926072.0</td>\n",
       "      <td>124282.0</td>\n",
       "      <td>0.0</td>\n",
       "      <td>188367.0</td>\n",
       "      <td>287247.703704</td>\n",
       "      <td>46016.203704</td>\n",
       "      <td>0.0</td>\n",
       "      <td>...</td>\n",
       "      <td>2.098782e+06</td>\n",
       "      <td>97878.333333</td>\n",
       "      <td>85753.37037</td>\n",
       "      <td>10167.740741</td>\n",
       "      <td>94159.37037</td>\n",
       "      <td>85581.62963</td>\n",
       "      <td>586042.296296</td>\n",
       "      <td>173037.615385</td>\n",
       "      <td>662122.074074</td>\n",
       "      <td>82469063.0</td>\n",
       "    </tr>\n",
       "    <tr>\n",
       "      <th>4</th>\n",
       "      <td>117105.0</td>\n",
       "      <td>3422557.0</td>\n",
       "      <td>17989.407407</td>\n",
       "      <td>246751.0</td>\n",
       "      <td>0.0</td>\n",
       "      <td>0.0</td>\n",
       "      <td>0.0</td>\n",
       "      <td>287247.703704</td>\n",
       "      <td>46016.203704</td>\n",
       "      <td>0.0</td>\n",
       "      <td>...</td>\n",
       "      <td>2.098782e+06</td>\n",
       "      <td>97878.333333</td>\n",
       "      <td>85753.37037</td>\n",
       "      <td>10167.740741</td>\n",
       "      <td>94159.37037</td>\n",
       "      <td>85581.62963</td>\n",
       "      <td>586042.296296</td>\n",
       "      <td>173037.615385</td>\n",
       "      <td>662122.074074</td>\n",
       "      <td>82469063.0</td>\n",
       "    </tr>\n",
       "  </tbody>\n",
       "</table>\n",
       "<p>5 rows × 67 columns</p>\n",
       "</div>"
      ],
      "text/plain": [
       "    Ethyl Acetate    Ethanol  Propanoic acid, ethyl ester  2-Pentanone  \\\n",
       "0        465374.0  1027715.0                 17989.407407    1289650.0   \n",
       "1        193151.0  1050974.0                 17989.407407     504113.0   \n",
       "2        403286.0  1850391.0                 17989.407407    1169501.0   \n",
       "3        129833.0  5140770.0                 17989.407407    1926072.0   \n",
       "4        117105.0  3422557.0                 17989.407407     246751.0   \n",
       "\n",
       "     Decane  Methyl Isobutyl Ketone  Amylene hydrate  \\\n",
       "0  800581.0                324424.0          73015.0   \n",
       "1  294680.0                189630.0              0.0   \n",
       "2      15.0                228163.0          73558.0   \n",
       "3  124282.0                     0.0         188367.0   \n",
       "4       0.0                     0.0              0.0   \n",
       "\n",
       "   Butanoic acid, 2-methyl-, methyl ester  Isobutyl acetate  \\\n",
       "0                           287247.703704      46016.203704   \n",
       "1                           287247.703704      46016.203704   \n",
       "2                           287247.703704      46016.203704   \n",
       "3                           287247.703704      46016.203704   \n",
       "4                           287247.703704      46016.203704   \n",
       "\n",
       "   Methyl isovalerate  ...   1-Dodecanol  Methyl tetradecanoate  \\\n",
       "0                 0.0  ...  2.098782e+06           97878.333333   \n",
       "1                 0.0  ...  2.098782e+06           97878.333333   \n",
       "2                 0.0  ...  2.098782e+06           97878.333333   \n",
       "3                 0.0  ...  2.098782e+06           97878.333333   \n",
       "4                 0.0  ...  2.098782e+06           97878.333333   \n",
       "\n",
       "    2-Pentadecanone  Tetradecanoic acid, ethyl ester  Hexadecanal  \\\n",
       "0       85753.37037                     10167.740741  94159.37037   \n",
       "1       85753.37037                     10167.740741  94159.37037   \n",
       "2       85753.37037                     10167.740741  94159.37037   \n",
       "3       85753.37037                     10167.740741  94159.37037   \n",
       "4       85753.37037                     10167.740741  94159.37037   \n",
       "\n",
       "   n-Tridecan-1-ol  1-Tetradecanol  n-Pentadecanol   1-Hexadecanol      Indole  \n",
       "0      85581.62963   586042.296296   173037.615385   662122.074074  82469063.0  \n",
       "1      85581.62963   586042.296296   173037.615385   662122.074074  82469063.0  \n",
       "2      85581.62963   586042.296296   173037.615385   662122.074074  82469063.0  \n",
       "3      85581.62963   586042.296296   173037.615385   662122.074074  82469063.0  \n",
       "4      85581.62963   586042.296296   173037.615385   662122.074074  82469063.0  \n",
       "\n",
       "[5 rows x 67 columns]"
      ]
     },
     "execution_count": 17,
     "metadata": {},
     "output_type": "execute_result"
    }
   ],
   "source": [
    "imputed.head()"
   ]
  },
  {
   "cell_type": "code",
   "execution_count": 83,
   "id": "8e45b1d4",
   "metadata": {},
   "outputs": [
    {
     "data": {
      "text/plain": [
       "LB     30\n",
       "BHI    27\n",
       "TSB    27\n",
       "Name: Medium, dtype: int64"
      ]
     },
     "execution_count": 83,
     "metadata": {},
     "output_type": "execute_result"
    }
   ],
   "source": [
    "data1['Medium'].value_counts()"
   ]
  },
  {
   "cell_type": "markdown",
   "id": "8cfedd66",
   "metadata": {},
   "source": [
    "## We have our medium column now let's start our AutoML approach"
   ]
  },
  {
   "cell_type": "markdown",
   "id": "92990825",
   "metadata": {},
   "source": [
    "We will need to number our medium column first instead of using categorical values."
   ]
  },
  {
   "cell_type": "code",
   "execution_count": 18,
   "id": "491033d2",
   "metadata": {},
   "outputs": [
    {
     "data": {
      "text/plain": [
       "LB     30\n",
       "BHI    27\n",
       "TSB    27\n",
       "Name: Medium, dtype: int64"
      ]
     },
     "execution_count": 18,
     "metadata": {},
     "output_type": "execute_result"
    }
   ],
   "source": [
    "data1['Medium'].value_counts()"
   ]
  },
  {
   "cell_type": "code",
   "execution_count": 19,
   "id": "854e11d8",
   "metadata": {},
   "outputs": [],
   "source": [
    "x = data1['Medium']\n",
    "exit_status_map = {'LB': 0, 'BHI': 1, 'TSB': 2}\n",
    "xyz = x.map(exit_status_map)"
   ]
  },
  {
   "cell_type": "code",
   "execution_count": 20,
   "id": "ac80ecb0",
   "metadata": {},
   "outputs": [
    {
     "data": {
      "text/plain": [
       "3     2\n",
       "4     2\n",
       "5     2\n",
       "6     2\n",
       "7     2\n",
       "     ..\n",
       "82    2\n",
       "83    2\n",
       "84    2\n",
       "85    2\n",
       "86    2\n",
       "Name: Medium, Length: 84, dtype: int64"
      ]
     },
     "execution_count": 20,
     "metadata": {},
     "output_type": "execute_result"
    }
   ],
   "source": [
    "xyz"
   ]
  },
  {
   "cell_type": "markdown",
   "id": "c7ffd4d5",
   "metadata": {},
   "source": [
    "## 15% Split"
   ]
  },
  {
   "cell_type": "code",
   "execution_count": 21,
   "id": "1253a0a4",
   "metadata": {},
   "outputs": [],
   "source": [
    "X_train, X_test, y_train, y_test = train_test_split(imputed, xyz, test_size=0.15)"
   ]
  },
  {
   "cell_type": "code",
   "execution_count": 22,
   "id": "4f837240",
   "metadata": {},
   "outputs": [
    {
     "name": "stdout",
     "output_type": "stream",
     "text": [
      "AutoML directory: AutoML_1\n",
      "The task is multiclass_classification with evaluation metric logloss\n",
      "AutoML will use algorithms: ['Decision Tree', 'Linear', 'Random Forest', 'Nearest Neighbors', 'Xgboost']\n",
      "AutoML will ensemble available models\n",
      "AutoML steps: ['simple_algorithms', 'default_algorithms', 'ensemble']\n",
      "* Step simple_algorithms will try to check up to 2 models\n",
      "1_DecisionTree logloss 0.842861 trained in 28.67 seconds\n",
      "2_Linear logloss 0.223379 trained in 12.47 seconds\n",
      "* Step default_algorithms will try to check up to 3 models\n",
      "3_Default_Xgboost logloss 0.103531 trained in 14.95 seconds\n",
      "4_Default_RandomForest logloss 0.596239 trained in 13.91 seconds\n"
     ]
    },
    {
     "name": "stderr",
     "output_type": "stream",
     "text": [
      "X does not have valid feature names, but KNeighborsClassifier was fitted with feature names\n",
      "X does not have valid feature names, but KNeighborsClassifier was fitted with feature names\n"
     ]
    },
    {
     "name": "stdout",
     "output_type": "stream",
     "text": [
      "Exception while producing SHAP explanations. 'NoneType' object has no attribute 'shap_values'\n",
      "Continuing ...\n",
      "5_Default_NearestNeighbors logloss 0.527302 trained in 3.7 seconds\n",
      "* Step ensemble will try to check up to 1 model\n",
      "Ensemble logloss 0.103531 trained in 0.67 seconds\n",
      "AutoML fit time: 111.81 seconds\n",
      "AutoML best model: 3_Default_Xgboost\n"
     ]
    },
    {
     "data": {
      "text/plain": [
       "AutoML(algorithms=['Decision Tree', 'Linear', 'Random Forest',\n",
       "                   'Nearest Neighbors', 'Xgboost'],\n",
       "       total_time_limit=300)"
      ]
     },
     "execution_count": 22,
     "metadata": {},
     "output_type": "execute_result"
    }
   ],
   "source": [
    "automl = AutoML(algorithms=[\"Decision Tree\", \"Linear\", \"Random Forest\", \"Nearest Neighbors\", \"Xgboost\"], total_time_limit=5*60)\n",
    "automl.fit(X_train, y_train)"
   ]
  },
  {
   "cell_type": "code",
   "execution_count": 24,
   "id": "728d5529",
   "metadata": {},
   "outputs": [
    {
     "data": {
      "text/plain": [
       "0.7692307692307693"
      ]
     },
     "execution_count": 24,
     "metadata": {},
     "output_type": "execute_result"
    }
   ],
   "source": [
    "# Cross-Validation for 15:85 split\n",
    "from sklearn import svm\n",
    "clf = svm.SVC(kernel='linear', C=1).fit(X_train, y_train)\n",
    "clf.score(X_test, y_test)"
   ]
  },
  {
   "cell_type": "code",
   "execution_count": 25,
   "id": "33d587b5",
   "metadata": {},
   "outputs": [
    {
     "name": "stdout",
     "output_type": "stream",
     "text": [
      "0.38 accuracy with a standard deviation of 0.25\n"
     ]
    },
    {
     "name": "stderr",
     "output_type": "stream",
     "text": [
      "The least populated class in y has only 3 members, which is less than n_splits=4.\n"
     ]
    }
   ],
   "source": [
    "from sklearn.model_selection import cross_val_score\n",
    "clf = svm.SVC(kernel='linear', C=1, random_state=42)\n",
    "scores = cross_val_score(clf, X_test, y_test, cv=4)\n",
    "print(\"%0.2f accuracy with a standard deviation of %0.2f\" % (scores.mean(), scores.std()))"
   ]
  },
  {
   "cell_type": "code",
   "execution_count": 26,
   "id": "b5df614c",
   "metadata": {},
   "outputs": [
    {
     "name": "stdout",
     "output_type": "stream",
     "text": [
      "[[4 0 0]\n",
      " [0 6 0]\n",
      " [0 0 3]]\n",
      "              precision    recall  f1-score   support\n",
      "\n",
      "           0       1.00      1.00      1.00         4\n",
      "           1       1.00      1.00      1.00         6\n",
      "           2       1.00      1.00      1.00         3\n",
      "\n",
      "    accuracy                           1.00        13\n",
      "   macro avg       1.00      1.00      1.00        13\n",
      "weighted avg       1.00      1.00      1.00        13\n",
      "\n",
      "1.0\n"
     ]
    }
   ],
   "source": [
    "from sklearn.metrics import classification_report, confusion_matrix, accuracy_score\n",
    "\n",
    "y_predicted = automl.predict(X_test)\n",
    "print(confusion_matrix(y_test,y_predicted))\n",
    "print(classification_report(y_test,y_predicted))\n",
    "print(accuracy_score(y_test, y_predicted))"
   ]
  },
  {
   "cell_type": "markdown",
   "id": "79652c20",
   "metadata": {},
   "source": [
    "## 20% Split"
   ]
  },
  {
   "cell_type": "code",
   "execution_count": 27,
   "id": "2e61f3d4",
   "metadata": {},
   "outputs": [],
   "source": [
    "X_train20, X_test20, y_train20, y_test20 = train_test_split(imputed, xyz, test_size=0.20)"
   ]
  },
  {
   "cell_type": "code",
   "execution_count": 28,
   "id": "900d3643",
   "metadata": {},
   "outputs": [
    {
     "name": "stdout",
     "output_type": "stream",
     "text": [
      "AutoML directory: AutoML_2\n",
      "The task is multiclass_classification with evaluation metric logloss\n",
      "AutoML will use algorithms: ['Decision Tree', 'Linear', 'Random Forest', 'Nearest Neighbors', 'Xgboost']\n",
      "AutoML will ensemble available models\n",
      "AutoML steps: ['simple_algorithms', 'default_algorithms', 'ensemble']\n",
      "* Step simple_algorithms will try to check up to 2 models\n",
      "1_DecisionTree logloss 1.008222 trained in 14.59 seconds\n",
      "2_Linear logloss 0.483168 trained in 11.31 seconds\n",
      "* Step default_algorithms will try to check up to 3 models\n",
      "3_Default_Xgboost logloss 0.172534 trained in 13.74 seconds\n",
      "4_Default_RandomForest logloss 0.809196 trained in 15.93 seconds\n"
     ]
    },
    {
     "name": "stderr",
     "output_type": "stream",
     "text": [
      "X does not have valid feature names, but KNeighborsClassifier was fitted with feature names\n",
      "X does not have valid feature names, but KNeighborsClassifier was fitted with feature names\n"
     ]
    },
    {
     "name": "stdout",
     "output_type": "stream",
     "text": [
      "Exception while producing SHAP explanations. 'NoneType' object has no attribute 'shap_values'\n",
      "Continuing ...\n",
      "5_Default_NearestNeighbors logloss 2.112121 trained in 4.09 seconds\n",
      "* Step ensemble will try to check up to 1 model\n",
      "Ensemble logloss 0.172534 trained in 0.32 seconds\n",
      "AutoML fit time: 104.45 seconds\n",
      "AutoML best model: 3_Default_Xgboost\n"
     ]
    },
    {
     "data": {
      "text/plain": [
       "AutoML(algorithms=['Decision Tree', 'Linear', 'Random Forest',\n",
       "                   'Nearest Neighbors', 'Xgboost'],\n",
       "       total_time_limit=300)"
      ]
     },
     "execution_count": 28,
     "metadata": {},
     "output_type": "execute_result"
    }
   ],
   "source": [
    "automl = AutoML(algorithms=[\"Decision Tree\", \"Linear\", \"Random Forest\", \"Nearest Neighbors\", \"Xgboost\"], total_time_limit=5*60)\n",
    "automl.fit(X_train20, y_train20)"
   ]
  },
  {
   "cell_type": "code",
   "execution_count": 29,
   "id": "1a77de3c",
   "metadata": {},
   "outputs": [
    {
     "data": {
      "text/plain": [
       "0.8823529411764706"
      ]
     },
     "execution_count": 29,
     "metadata": {},
     "output_type": "execute_result"
    }
   ],
   "source": [
    "# Cross-Validation for 20:80 split\n",
    "from sklearn import svm\n",
    "clf = svm.SVC(kernel='linear', C=1).fit(X_train20, y_train20)\n",
    "clf.score(X_test20, y_test20)"
   ]
  },
  {
   "cell_type": "code",
   "execution_count": 30,
   "id": "e5dfc1dc",
   "metadata": {},
   "outputs": [
    {
     "name": "stdout",
     "output_type": "stream",
     "text": [
      "0.53 accuracy with a standard deviation of 0.04\n"
     ]
    },
    {
     "name": "stderr",
     "output_type": "stream",
     "text": [
      "The least populated class in y has only 3 members, which is less than n_splits=4.\n"
     ]
    }
   ],
   "source": [
    "from sklearn.model_selection import cross_val_score\n",
    "clf = svm.SVC(kernel='linear', C=1, random_state=42)\n",
    "scores = cross_val_score(clf, X_test20, y_test20, cv=4)\n",
    "print(\"%0.2f accuracy with a standard deviation of %0.2f\" % (scores.mean(), scores.std()))"
   ]
  },
  {
   "cell_type": "code",
   "execution_count": 31,
   "id": "98a6f602",
   "metadata": {},
   "outputs": [
    {
     "name": "stdout",
     "output_type": "stream",
     "text": [
      "[[8 0 0]\n",
      " [0 5 1]\n",
      " [0 0 3]]\n",
      "              precision    recall  f1-score   support\n",
      "\n",
      "           0       1.00      1.00      1.00         8\n",
      "           1       1.00      0.83      0.91         6\n",
      "           2       0.75      1.00      0.86         3\n",
      "\n",
      "    accuracy                           0.94        17\n",
      "   macro avg       0.92      0.94      0.92        17\n",
      "weighted avg       0.96      0.94      0.94        17\n",
      "\n",
      "0.9411764705882353\n"
     ]
    }
   ],
   "source": [
    "from sklearn.metrics import classification_report, confusion_matrix, accuracy_score\n",
    "\n",
    "y_predicted20 = automl.predict(X_test20)\n",
    "print(confusion_matrix(y_test20,y_predicted20))\n",
    "print(classification_report(y_test20,y_predicted20))\n",
    "print(accuracy_score(y_test20, y_predicted20))"
   ]
  },
  {
   "cell_type": "markdown",
   "id": "bc920e2a",
   "metadata": {},
   "source": [
    "## 25% Split"
   ]
  },
  {
   "cell_type": "code",
   "execution_count": 32,
   "id": "2b8cb48d",
   "metadata": {},
   "outputs": [],
   "source": [
    "X_train25, X_test25, y_train25, y_test25 = train_test_split(imputed, xyz, test_size=0.25)"
   ]
  },
  {
   "cell_type": "code",
   "execution_count": 33,
   "id": "3f31e5a2",
   "metadata": {},
   "outputs": [
    {
     "name": "stdout",
     "output_type": "stream",
     "text": [
      "AutoML directory: AutoML_3\n",
      "The task is multiclass_classification with evaluation metric logloss\n",
      "AutoML will use algorithms: ['Decision Tree', 'Linear', 'Random Forest', 'Nearest Neighbors', 'Xgboost']\n",
      "AutoML will ensemble available models\n",
      "AutoML steps: ['simple_algorithms', 'default_algorithms', 'ensemble']\n",
      "* Step simple_algorithms will try to check up to 2 models\n",
      "1_DecisionTree logloss 2.209508 trained in 15.22 seconds\n",
      "2_Linear logloss 0.4325 trained in 11.24 seconds\n",
      "* Step default_algorithms will try to check up to 3 models\n",
      "3_Default_Xgboost logloss 0.232312 trained in 18.96 seconds\n",
      "4_Default_RandomForest logloss 0.883075 trained in 21.52 seconds\n"
     ]
    },
    {
     "name": "stderr",
     "output_type": "stream",
     "text": [
      "X does not have valid feature names, but KNeighborsClassifier was fitted with feature names\n",
      "X does not have valid feature names, but KNeighborsClassifier was fitted with feature names\n"
     ]
    },
    {
     "name": "stdout",
     "output_type": "stream",
     "text": [
      "Exception while producing SHAP explanations. 'NoneType' object has no attribute 'shap_values'\n",
      "Continuing ...\n",
      "5_Default_NearestNeighbors logloss 1.504039 trained in 4.14 seconds\n",
      "* Step ensemble will try to check up to 1 model\n",
      "Ensemble logloss 0.210967 trained in 0.37 seconds\n",
      "AutoML fit time: 119.68 seconds\n",
      "AutoML best model: Ensemble\n"
     ]
    },
    {
     "data": {
      "text/plain": [
       "AutoML(algorithms=['Decision Tree', 'Linear', 'Random Forest',\n",
       "                   'Nearest Neighbors', 'Xgboost'],\n",
       "       total_time_limit=300)"
      ]
     },
     "execution_count": 33,
     "metadata": {},
     "output_type": "execute_result"
    }
   ],
   "source": [
    "automl = AutoML(algorithms=[\"Decision Tree\", \"Linear\", \"Random Forest\", \"Nearest Neighbors\", \"Xgboost\"], total_time_limit=5*60)\n",
    "automl.fit(X_train25, y_train25)"
   ]
  },
  {
   "cell_type": "code",
   "execution_count": 34,
   "id": "1415444e",
   "metadata": {},
   "outputs": [
    {
     "data": {
      "text/plain": [
       "0.8571428571428571"
      ]
     },
     "execution_count": 34,
     "metadata": {},
     "output_type": "execute_result"
    }
   ],
   "source": [
    "# Cross-Validation for 25:75 split\n",
    "from sklearn import svm\n",
    "clf = svm.SVC(kernel='linear', C=1).fit(X_train25, y_train25)\n",
    "clf.score(X_test25, y_test25)"
   ]
  },
  {
   "cell_type": "code",
   "execution_count": 35,
   "id": "bd0b64c6",
   "metadata": {},
   "outputs": [
    {
     "name": "stdout",
     "output_type": "stream",
     "text": [
      "0.67 accuracy with a standard deviation of 0.08\n"
     ]
    },
    {
     "name": "stderr",
     "output_type": "stream",
     "text": [
      "The least populated class in y has only 3 members, which is less than n_splits=4.\n"
     ]
    }
   ],
   "source": [
    "from sklearn.model_selection import cross_val_score\n",
    "clf = svm.SVC(kernel='linear', C=1, random_state=42)\n",
    "scores = cross_val_score(clf, X_test25, y_test25, cv=4)\n",
    "print(\"%0.2f accuracy with a standard deviation of %0.2f\" % (scores.mean(), scores.std()))"
   ]
  },
  {
   "cell_type": "code",
   "execution_count": 36,
   "id": "23d40975",
   "metadata": {},
   "outputs": [
    {
     "name": "stdout",
     "output_type": "stream",
     "text": [
      "[[10  0  0]\n",
      " [ 0  7  1]\n",
      " [ 0  0  3]]\n",
      "              precision    recall  f1-score   support\n",
      "\n",
      "           0       1.00      1.00      1.00        10\n",
      "           1       1.00      0.88      0.93         8\n",
      "           2       0.75      1.00      0.86         3\n",
      "\n",
      "    accuracy                           0.95        21\n",
      "   macro avg       0.92      0.96      0.93        21\n",
      "weighted avg       0.96      0.95      0.95        21\n",
      "\n",
      "0.9523809523809523\n"
     ]
    }
   ],
   "source": [
    "from sklearn.metrics import classification_report, confusion_matrix, accuracy_score\n",
    "\n",
    "y_predicted25 = automl.predict(X_test25)\n",
    "print(confusion_matrix(y_test25,y_predicted25))\n",
    "print(classification_report(y_test25,y_predicted25))\n",
    "print(accuracy_score(y_test25, y_predicted25))"
   ]
  },
  {
   "cell_type": "markdown",
   "id": "21f16b83",
   "metadata": {},
   "source": [
    "## 30% Split"
   ]
  },
  {
   "cell_type": "code",
   "execution_count": 37,
   "id": "16d85f96",
   "metadata": {},
   "outputs": [],
   "source": [
    "X_train30, X_test30, y_train30, y_test30 = train_test_split(imputed, xyz, test_size=0.3)"
   ]
  },
  {
   "cell_type": "code",
   "execution_count": 38,
   "id": "c35818e1",
   "metadata": {},
   "outputs": [
    {
     "name": "stdout",
     "output_type": "stream",
     "text": [
      "AutoML directory: AutoML_4\n",
      "The task is multiclass_classification with evaluation metric logloss\n",
      "AutoML will use algorithms: ['Decision Tree', 'Linear', 'Random Forest', 'Nearest Neighbors', 'Xgboost']\n",
      "AutoML will ensemble available models\n",
      "AutoML steps: ['simple_algorithms', 'default_algorithms', 'ensemble']\n",
      "* Step simple_algorithms will try to check up to 2 models\n",
      "1_DecisionTree logloss 5.61107 trained in 14.1 seconds\n",
      "2_Linear logloss 0.762603 trained in 12.18 seconds\n",
      "* Step default_algorithms will try to check up to 3 models\n",
      "3_Default_Xgboost logloss 0.76506 trained in 13.01 seconds\n",
      "4_Default_RandomForest logloss 0.979656 trained in 15.67 seconds\n"
     ]
    },
    {
     "name": "stderr",
     "output_type": "stream",
     "text": [
      "X does not have valid feature names, but KNeighborsClassifier was fitted with feature names\n",
      "X does not have valid feature names, but KNeighborsClassifier was fitted with feature names\n"
     ]
    },
    {
     "name": "stdout",
     "output_type": "stream",
     "text": [
      "Exception while producing SHAP explanations. 'NoneType' object has no attribute 'shap_values'\n",
      "Continuing ...\n",
      "5_Default_NearestNeighbors logloss 1.448546 trained in 4.09 seconds\n",
      "* Step ensemble will try to check up to 1 model\n",
      "Ensemble logloss 0.607099 trained in 0.59 seconds\n",
      "AutoML fit time: 100.79 seconds\n",
      "AutoML best model: Ensemble\n"
     ]
    },
    {
     "data": {
      "text/plain": [
       "AutoML(algorithms=['Decision Tree', 'Linear', 'Random Forest',\n",
       "                   'Nearest Neighbors', 'Xgboost'],\n",
       "       total_time_limit=300)"
      ]
     },
     "execution_count": 38,
     "metadata": {},
     "output_type": "execute_result"
    }
   ],
   "source": [
    "automl = AutoML(algorithms=[\"Decision Tree\", \"Linear\", \"Random Forest\", \"Nearest Neighbors\", \"Xgboost\"], total_time_limit=5*60)\n",
    "automl.fit(X_train30, y_train30)"
   ]
  },
  {
   "cell_type": "code",
   "execution_count": 39,
   "id": "584d2acc",
   "metadata": {},
   "outputs": [
    {
     "data": {
      "text/plain": [
       "0.8076923076923077"
      ]
     },
     "execution_count": 39,
     "metadata": {},
     "output_type": "execute_result"
    }
   ],
   "source": [
    "# Cross-Validation for 30:70 split\n",
    "from sklearn import svm\n",
    "clf = svm.SVC(kernel='linear', C=1).fit(X_train30, y_train30)\n",
    "clf.score(X_test30, y_test30)"
   ]
  },
  {
   "cell_type": "code",
   "execution_count": 40,
   "id": "65684642",
   "metadata": {},
   "outputs": [
    {
     "name": "stdout",
     "output_type": "stream",
     "text": [
      "0.57 accuracy with a standard deviation of 0.25\n"
     ]
    }
   ],
   "source": [
    "from sklearn.model_selection import cross_val_score\n",
    "clf = svm.SVC(kernel='linear', C=1, random_state=42)\n",
    "scores = cross_val_score(clf, X_test30, y_test30, cv=4)\n",
    "print(\"%0.2f accuracy with a standard deviation of %0.2f\" % (scores.mean(), scores.std()))"
   ]
  },
  {
   "cell_type": "code",
   "execution_count": 42,
   "id": "2c3dae54",
   "metadata": {},
   "outputs": [
    {
     "name": "stdout",
     "output_type": "stream",
     "text": [
      "[[12  0  0]\n",
      " [ 0  8  1]\n",
      " [ 0  0  5]]\n",
      "              precision    recall  f1-score   support\n",
      "\n",
      "           0       1.00      1.00      1.00        12\n",
      "           1       1.00      0.89      0.94         9\n",
      "           2       0.83      1.00      0.91         5\n",
      "\n",
      "    accuracy                           0.96        26\n",
      "   macro avg       0.94      0.96      0.95        26\n",
      "weighted avg       0.97      0.96      0.96        26\n",
      "\n",
      "0.9615384615384616\n"
     ]
    },
    {
     "name": "stderr",
     "output_type": "stream",
     "text": [
      "X does not have valid feature names, but KNeighborsClassifier was fitted with feature names\n"
     ]
    }
   ],
   "source": [
    "from sklearn.metrics import classification_report, confusion_matrix, accuracy_score\n",
    "\n",
    "y_predicted30 = automl.predict(X_test30)\n",
    "print(confusion_matrix(y_test30,y_predicted30))\n",
    "print(classification_report(y_test30,y_predicted30))\n",
    "print(accuracy_score(y_test30, y_predicted30))"
   ]
  },
  {
   "cell_type": "markdown",
   "id": "e0c1b9d7",
   "metadata": {},
   "source": [
    "## 40% Split"
   ]
  },
  {
   "cell_type": "code",
   "execution_count": 43,
   "id": "6fb9c686",
   "metadata": {},
   "outputs": [],
   "source": [
    "X_train40, X_test40, y_train40, y_test40 = train_test_split(imputed, xyz, test_size=0.4)"
   ]
  },
  {
   "cell_type": "code",
   "execution_count": 44,
   "id": "9a3bf66a",
   "metadata": {},
   "outputs": [
    {
     "name": "stdout",
     "output_type": "stream",
     "text": [
      "AutoML directory: AutoML_5\n",
      "The task is multiclass_classification with evaluation metric logloss\n",
      "AutoML will use algorithms: ['Decision Tree', 'Linear', 'Random Forest', 'Nearest Neighbors', 'Xgboost']\n",
      "AutoML will ensemble available models\n",
      "AutoML steps: ['simple_algorithms', 'default_algorithms', 'ensemble']\n",
      "* Step simple_algorithms will try to check up to 2 models\n",
      "1_DecisionTree logloss 4.695849 trained in 15.75 seconds\n",
      "2_Linear logloss 0.615686 trained in 12.4 seconds\n",
      "* Step default_algorithms will try to check up to 3 models\n",
      "3_Default_Xgboost logloss 0.930856 trained in 12.09 seconds\n",
      "4_Default_RandomForest logloss 1.03656 trained in 12.84 seconds\n"
     ]
    },
    {
     "name": "stderr",
     "output_type": "stream",
     "text": [
      "X does not have valid feature names, but KNeighborsClassifier was fitted with feature names\n",
      "X does not have valid feature names, but KNeighborsClassifier was fitted with feature names\n"
     ]
    },
    {
     "name": "stdout",
     "output_type": "stream",
     "text": [
      "Exception while producing SHAP explanations. 'NoneType' object has no attribute 'shap_values'\n",
      "Continuing ...\n",
      "5_Default_NearestNeighbors logloss 0.509122 trained in 4.4 seconds\n",
      "* Step ensemble will try to check up to 1 model\n",
      "Ensemble logloss 0.469081 trained in 0.31 seconds\n",
      "AutoML fit time: 95.99 seconds\n",
      "AutoML best model: Ensemble\n"
     ]
    },
    {
     "data": {
      "text/plain": [
       "AutoML(algorithms=['Decision Tree', 'Linear', 'Random Forest',\n",
       "                   'Nearest Neighbors', 'Xgboost'],\n",
       "       total_time_limit=300)"
      ]
     },
     "execution_count": 44,
     "metadata": {},
     "output_type": "execute_result"
    }
   ],
   "source": [
    "automl = AutoML(algorithms=[\"Decision Tree\", \"Linear\", \"Random Forest\", \"Nearest Neighbors\", \"Xgboost\"], total_time_limit=5*60)\n",
    "automl.fit(X_train40, y_train40)"
   ]
  },
  {
   "cell_type": "code",
   "execution_count": 45,
   "id": "6d6b4db5",
   "metadata": {},
   "outputs": [
    {
     "data": {
      "text/plain": [
       "0.7941176470588235"
      ]
     },
     "execution_count": 45,
     "metadata": {},
     "output_type": "execute_result"
    }
   ],
   "source": [
    "# Cross-Validation for 40:60 split\n",
    "from sklearn import svm\n",
    "clf = svm.SVC(kernel='linear', C=1).fit(X_train40, y_train40)\n",
    "clf.score(X_test40, y_test40)"
   ]
  },
  {
   "cell_type": "code",
   "execution_count": 46,
   "id": "097517b1",
   "metadata": {},
   "outputs": [
    {
     "name": "stdout",
     "output_type": "stream",
     "text": [
      "0.70 accuracy with a standard deviation of 0.14\n"
     ]
    }
   ],
   "source": [
    "from sklearn.model_selection import cross_val_score\n",
    "clf = svm.SVC(kernel='linear', C=1, random_state=42)\n",
    "scores = cross_val_score(clf, X_test40, y_test40, cv=4)\n",
    "print(\"%0.2f accuracy with a standard deviation of %0.2f\" % (scores.mean(), scores.std()))"
   ]
  },
  {
   "cell_type": "code",
   "execution_count": 47,
   "id": "3c72b4a5",
   "metadata": {},
   "outputs": [
    {
     "name": "stdout",
     "output_type": "stream",
     "text": [
      "[[15  0  2]\n",
      " [ 0  8  3]\n",
      " [ 0  2  4]]\n",
      "              precision    recall  f1-score   support\n",
      "\n",
      "           0       1.00      0.88      0.94        17\n",
      "           1       0.80      0.73      0.76        11\n",
      "           2       0.44      0.67      0.53         6\n",
      "\n",
      "    accuracy                           0.79        34\n",
      "   macro avg       0.75      0.76      0.74        34\n",
      "weighted avg       0.84      0.79      0.81        34\n",
      "\n",
      "0.7941176470588235\n"
     ]
    },
    {
     "name": "stderr",
     "output_type": "stream",
     "text": [
      "X does not have valid feature names, but KNeighborsClassifier was fitted with feature names\n"
     ]
    }
   ],
   "source": [
    "from sklearn.metrics import classification_report, confusion_matrix, accuracy_score\n",
    "\n",
    "y_predicted40 = automl.predict(X_test40)\n",
    "print(confusion_matrix(y_test40,y_predicted40))\n",
    "print(classification_report(y_test40,y_predicted40))\n",
    "print(accuracy_score(y_test40, y_predicted40))"
   ]
  },
  {
   "cell_type": "markdown",
   "id": "b180bda7",
   "metadata": {},
   "source": [
    "## 50% Split"
   ]
  },
  {
   "cell_type": "code",
   "execution_count": 48,
   "id": "a476ce6a",
   "metadata": {},
   "outputs": [],
   "source": [
    "X_train50, X_test50, y_train50, y_test50 = train_test_split(imputed, xyz, test_size=0.5)"
   ]
  },
  {
   "cell_type": "code",
   "execution_count": 49,
   "id": "9a28cf07",
   "metadata": {},
   "outputs": [
    {
     "name": "stdout",
     "output_type": "stream",
     "text": [
      "AutoML directory: AutoML_6\n",
      "The task is multiclass_classification with evaluation metric logloss\n",
      "AutoML will use algorithms: ['Decision Tree', 'Linear', 'Random Forest', 'Nearest Neighbors', 'Xgboost']\n",
      "AutoML will ensemble available models\n",
      "AutoML steps: ['simple_algorithms', 'default_algorithms', 'ensemble']\n",
      "* Step simple_algorithms will try to check up to 2 models\n",
      "1_DecisionTree logloss 3.908896 trained in 16.17 seconds\n",
      "2_Linear logloss 0.648711 trained in 11.4 seconds\n",
      "* Step default_algorithms will try to check up to 3 models\n",
      "3_Default_Xgboost logloss 0.418621 trained in 14.21 seconds\n",
      "4_Default_RandomForest logloss 0.872037 trained in 14.16 seconds\n"
     ]
    },
    {
     "name": "stderr",
     "output_type": "stream",
     "text": [
      "X does not have valid feature names, but KNeighborsClassifier was fitted with feature names\n",
      "X does not have valid feature names, but KNeighborsClassifier was fitted with feature names\n"
     ]
    },
    {
     "name": "stdout",
     "output_type": "stream",
     "text": [
      "Exception while producing SHAP explanations. 'NoneType' object has no attribute 'shap_values'\n",
      "Continuing ...\n",
      "5_Default_NearestNeighbors logloss 2.934207 trained in 4.49 seconds\n",
      "* Step ensemble will try to check up to 1 model\n",
      "Ensemble logloss 0.389198 trained in 0.31 seconds\n",
      "AutoML fit time: 99.64 seconds\n",
      "AutoML best model: Ensemble\n"
     ]
    },
    {
     "data": {
      "text/plain": [
       "AutoML(algorithms=['Decision Tree', 'Linear', 'Random Forest',\n",
       "                   'Nearest Neighbors', 'Xgboost'],\n",
       "       total_time_limit=300)"
      ]
     },
     "execution_count": 49,
     "metadata": {},
     "output_type": "execute_result"
    }
   ],
   "source": [
    "automl = AutoML(algorithms=[\"Decision Tree\", \"Linear\", \"Random Forest\", \"Nearest Neighbors\", \"Xgboost\"], total_time_limit=5*60)\n",
    "automl.fit(X_train50, y_train50)"
   ]
  },
  {
   "cell_type": "code",
   "execution_count": 50,
   "id": "61a57c2a",
   "metadata": {},
   "outputs": [
    {
     "data": {
      "text/plain": [
       "0.7142857142857143"
      ]
     },
     "execution_count": 50,
     "metadata": {},
     "output_type": "execute_result"
    }
   ],
   "source": [
    "# Cross-Validation for 50:50 split\n",
    "from sklearn import svm\n",
    "clf = svm.SVC(kernel='linear', C=1).fit(X_train50, y_train50)\n",
    "clf.score(X_test50, y_test50)"
   ]
  },
  {
   "cell_type": "code",
   "execution_count": 51,
   "id": "4663e9ed",
   "metadata": {},
   "outputs": [
    {
     "name": "stdout",
     "output_type": "stream",
     "text": [
      "0.76 accuracy with a standard deviation of 0.11\n"
     ]
    }
   ],
   "source": [
    "from sklearn.model_selection import cross_val_score\n",
    "clf = svm.SVC(kernel='linear', C=1, random_state=42)\n",
    "scores = cross_val_score(clf, X_test50, y_test50, cv=4)\n",
    "print(\"%0.2f accuracy with a standard deviation of %0.2f\" % (scores.mean(), scores.std()))"
   ]
  },
  {
   "cell_type": "code",
   "execution_count": 52,
   "id": "940605e8",
   "metadata": {},
   "outputs": [
    {
     "name": "stdout",
     "output_type": "stream",
     "text": [
      "[[16  2  0]\n",
      " [ 1 11  2]\n",
      " [ 2  1  7]]\n",
      "              precision    recall  f1-score   support\n",
      "\n",
      "           0       0.84      0.89      0.86        18\n",
      "           1       0.79      0.79      0.79        14\n",
      "           2       0.78      0.70      0.74        10\n",
      "\n",
      "    accuracy                           0.81        42\n",
      "   macro avg       0.80      0.79      0.80        42\n",
      "weighted avg       0.81      0.81      0.81        42\n",
      "\n",
      "0.8095238095238095\n"
     ]
    }
   ],
   "source": [
    "from sklearn.metrics import classification_report, confusion_matrix, accuracy_score\n",
    "\n",
    "y_predicted50 = automl.predict(X_test50)\n",
    "print(confusion_matrix(y_test50,y_predicted50))\n",
    "print(classification_report(y_test50,y_predicted50))\n",
    "print(accuracy_score(y_test50, y_predicted50))"
   ]
  },
  {
   "cell_type": "markdown",
   "id": "f8b94cb6",
   "metadata": {},
   "source": [
    "# Random Forest For Medium"
   ]
  },
  {
   "cell_type": "markdown",
   "id": "c21378e2",
   "metadata": {},
   "source": [
    "## 15% RF Split"
   ]
  },
  {
   "cell_type": "code",
   "execution_count": 53,
   "id": "f26cbcdf",
   "metadata": {},
   "outputs": [],
   "source": [
    "X_trainrf, X_testrf, y_trainrf, y_testrf = train_test_split(imputed, xyz, test_size=0.15, random_state=0)"
   ]
  },
  {
   "cell_type": "code",
   "execution_count": 54,
   "id": "e9be82b0",
   "metadata": {},
   "outputs": [],
   "source": [
    "from sklearn.ensemble import RandomForestRegressor\n",
    "\n",
    "regressor = RandomForestRegressor(n_estimators=20, random_state=0)\n",
    "regressor.fit(X_trainrf, y_trainrf)\n",
    "y_predrf = regressor.predict(X_testrf)"
   ]
  },
  {
   "cell_type": "code",
   "execution_count": 55,
   "id": "4d60c511",
   "metadata": {},
   "outputs": [
    {
     "data": {
      "text/plain": [
       "1.0"
      ]
     },
     "execution_count": 55,
     "metadata": {},
     "output_type": "execute_result"
    }
   ],
   "source": [
    "# Cross-Validation for 15:85 RF split\n",
    "from sklearn import svm\n",
    "clf = svm.SVC(kernel='linear', C=1).fit(X_trainrf, y_trainrf)\n",
    "clf.score(X_testrf, y_testrf)"
   ]
  },
  {
   "cell_type": "code",
   "execution_count": 56,
   "id": "ee361e05",
   "metadata": {},
   "outputs": [
    {
     "name": "stdout",
     "output_type": "stream",
     "text": [
      "0.54 accuracy with a standard deviation of 0.14\n"
     ]
    },
    {
     "name": "stderr",
     "output_type": "stream",
     "text": [
      "The least populated class in y has only 2 members, which is less than n_splits=4.\n"
     ]
    }
   ],
   "source": [
    "from sklearn.model_selection import cross_val_score\n",
    "clf = svm.SVC(kernel='linear', C=1, random_state=42)\n",
    "scores = cross_val_score(clf, X_testrf, y_testrf, cv=4)\n",
    "print(\"%0.2f accuracy with a standard deviation of %0.2f\" % (scores.mean(), scores.std()))"
   ]
  },
  {
   "cell_type": "code",
   "execution_count": 57,
   "id": "5014420f",
   "metadata": {},
   "outputs": [
    {
     "name": "stdout",
     "output_type": "stream",
     "text": [
      "[[5 1 0]\n",
      " [0 2 0]\n",
      " [0 1 4]]\n",
      "              precision    recall  f1-score   support\n",
      "\n",
      "           0       1.00      0.83      0.91         6\n",
      "           1       0.50      1.00      0.67         2\n",
      "           2       1.00      0.80      0.89         5\n",
      "\n",
      "    accuracy                           0.85        13\n",
      "   macro avg       0.83      0.88      0.82        13\n",
      "weighted avg       0.92      0.85      0.86        13\n",
      "\n",
      "0.8461538461538461\n"
     ]
    }
   ],
   "source": [
    "from sklearn.metrics import classification_report, confusion_matrix, accuracy_score\n",
    "\n",
    "y_predictedrf = automl.predict(X_testrf)\n",
    "print(confusion_matrix(y_testrf,y_predictedrf))\n",
    "print(classification_report(y_testrf,y_predictedrf))\n",
    "print(accuracy_score(y_testrf, y_predictedrf))"
   ]
  },
  {
   "cell_type": "markdown",
   "id": "6992b7d0",
   "metadata": {},
   "source": [
    "## 20% RF Split"
   ]
  },
  {
   "cell_type": "code",
   "execution_count": 58,
   "id": "36c2bfc4",
   "metadata": {},
   "outputs": [],
   "source": [
    "X_trainrf20, X_testrf20, y_trainrf20, y_testrf20 = train_test_split(imputed, xyz, test_size=0.2, random_state=0)"
   ]
  },
  {
   "cell_type": "code",
   "execution_count": 59,
   "id": "26f2a936",
   "metadata": {},
   "outputs": [],
   "source": [
    "from sklearn.ensemble import RandomForestRegressor\n",
    "\n",
    "regressor = RandomForestRegressor(n_estimators=20, random_state=0)\n",
    "regressor.fit(X_trainrf20, y_trainrf20)\n",
    "y_predrf20 = regressor.predict(X_testrf20)"
   ]
  },
  {
   "cell_type": "code",
   "execution_count": 60,
   "id": "c5b531d3",
   "metadata": {},
   "outputs": [
    {
     "data": {
      "text/plain": [
       "1.0"
      ]
     },
     "execution_count": 60,
     "metadata": {},
     "output_type": "execute_result"
    }
   ],
   "source": [
    "# Cross-Validation for 20:80 RF split\n",
    "from sklearn import svm\n",
    "clf = svm.SVC(kernel='linear', C=1).fit(X_trainrf20, y_trainrf20)\n",
    "clf.score(X_testrf20, y_testrf20)"
   ]
  },
  {
   "cell_type": "code",
   "execution_count": 61,
   "id": "a40c3448",
   "metadata": {},
   "outputs": [
    {
     "name": "stdout",
     "output_type": "stream",
     "text": [
      "0.61 accuracy with a standard deviation of 0.30\n"
     ]
    },
    {
     "name": "stderr",
     "output_type": "stream",
     "text": [
      "The least populated class in y has only 3 members, which is less than n_splits=4.\n"
     ]
    }
   ],
   "source": [
    "from sklearn.model_selection import cross_val_score\n",
    "clf = svm.SVC(kernel='linear', C=1, random_state=42)\n",
    "scores = cross_val_score(clf, X_testrf20, y_testrf20, cv=4)\n",
    "print(\"%0.2f accuracy with a standard deviation of %0.2f\" % (scores.mean(), scores.std()))"
   ]
  },
  {
   "cell_type": "code",
   "execution_count": 62,
   "id": "5ae94f50",
   "metadata": {},
   "outputs": [
    {
     "name": "stdout",
     "output_type": "stream",
     "text": [
      "[[6 1 0]\n",
      " [0 3 0]\n",
      " [0 1 6]]\n",
      "              precision    recall  f1-score   support\n",
      "\n",
      "           0       1.00      0.86      0.92         7\n",
      "           1       0.60      1.00      0.75         3\n",
      "           2       1.00      0.86      0.92         7\n",
      "\n",
      "    accuracy                           0.88        17\n",
      "   macro avg       0.87      0.90      0.87        17\n",
      "weighted avg       0.93      0.88      0.89        17\n",
      "\n",
      "0.8823529411764706\n"
     ]
    }
   ],
   "source": [
    "from sklearn.metrics import classification_report, confusion_matrix, accuracy_score\n",
    "\n",
    "y_predictedrf20 = automl.predict(X_testrf20)\n",
    "print(confusion_matrix(y_testrf20,y_predictedrf20))\n",
    "print(classification_report(y_testrf20,y_predictedrf20))\n",
    "print(accuracy_score(y_testrf20, y_predictedrf20))"
   ]
  },
  {
   "cell_type": "markdown",
   "id": "b7425fa6",
   "metadata": {},
   "source": [
    "## 25% RF Split"
   ]
  },
  {
   "cell_type": "code",
   "execution_count": 63,
   "id": "369e30e3",
   "metadata": {},
   "outputs": [],
   "source": [
    "X_trainrf25, X_testrf25, y_trainrf25, y_testrf25 = train_test_split(imputed, xyz, test_size=0.25, random_state=0)"
   ]
  },
  {
   "cell_type": "code",
   "execution_count": 64,
   "id": "7a99ac05",
   "metadata": {},
   "outputs": [],
   "source": [
    "from sklearn.ensemble import RandomForestRegressor\n",
    "\n",
    "regressor = RandomForestRegressor(n_estimators=20, random_state=0)\n",
    "regressor.fit(X_trainrf25, y_trainrf25)\n",
    "y_predrf25 = regressor.predict(X_testrf25)"
   ]
  },
  {
   "cell_type": "code",
   "execution_count": 65,
   "id": "b76e4589",
   "metadata": {},
   "outputs": [
    {
     "data": {
      "text/plain": [
       "1.0"
      ]
     },
     "execution_count": 65,
     "metadata": {},
     "output_type": "execute_result"
    }
   ],
   "source": [
    "# Cross-Validation for 25:75 RF split\n",
    "from sklearn import svm\n",
    "clf = svm.SVC(kernel='linear', C=1).fit(X_trainrf25, y_trainrf25)\n",
    "clf.score(X_testrf25, y_testrf25)"
   ]
  },
  {
   "cell_type": "code",
   "execution_count": 66,
   "id": "3e0283e6",
   "metadata": {},
   "outputs": [
    {
     "name": "stdout",
     "output_type": "stream",
     "text": [
      "0.71 accuracy with a standard deviation of 0.11\n"
     ]
    },
    {
     "name": "stderr",
     "output_type": "stream",
     "text": [
      "The least populated class in y has only 3 members, which is less than n_splits=4.\n"
     ]
    }
   ],
   "source": [
    "from sklearn.model_selection import cross_val_score\n",
    "clf = svm.SVC(kernel='linear', C=1, random_state=42)\n",
    "scores = cross_val_score(clf, X_testrf25, y_testrf25, cv=4)\n",
    "print(\"%0.2f accuracy with a standard deviation of %0.2f\" % (scores.mean(), scores.std()))"
   ]
  },
  {
   "cell_type": "code",
   "execution_count": 67,
   "id": "5bb21d49",
   "metadata": {},
   "outputs": [
    {
     "name": "stdout",
     "output_type": "stream",
     "text": [
      "[[8 1 0]\n",
      " [0 3 0]\n",
      " [0 1 8]]\n",
      "              precision    recall  f1-score   support\n",
      "\n",
      "           0       1.00      0.89      0.94         9\n",
      "           1       0.60      1.00      0.75         3\n",
      "           2       1.00      0.89      0.94         9\n",
      "\n",
      "    accuracy                           0.90        21\n",
      "   macro avg       0.87      0.93      0.88        21\n",
      "weighted avg       0.94      0.90      0.91        21\n",
      "\n",
      "0.9047619047619048\n"
     ]
    }
   ],
   "source": [
    "from sklearn.metrics import classification_report, confusion_matrix, accuracy_score\n",
    "\n",
    "y_predictedrf25 = automl.predict(X_testrf25)\n",
    "print(confusion_matrix(y_testrf25,y_predictedrf25))\n",
    "print(classification_report(y_testrf25,y_predictedrf25))\n",
    "print(accuracy_score(y_testrf25, y_predictedrf25))"
   ]
  },
  {
   "cell_type": "markdown",
   "id": "c0f99046",
   "metadata": {},
   "source": [
    "## 30% RF Split"
   ]
  },
  {
   "cell_type": "code",
   "execution_count": 68,
   "id": "bfc814a1",
   "metadata": {},
   "outputs": [],
   "source": [
    "X_trainrf30, X_testrf30, y_trainrf30, y_testrf30 = train_test_split(imputed, xyz, test_size=0.3, random_state=0)"
   ]
  },
  {
   "cell_type": "code",
   "execution_count": 69,
   "id": "6fb0dd84",
   "metadata": {},
   "outputs": [],
   "source": [
    "from sklearn.ensemble import RandomForestRegressor\n",
    "\n",
    "regressor = RandomForestRegressor(n_estimators=20, random_state=0)\n",
    "regressor.fit(X_trainrf30, y_trainrf30)\n",
    "y_predrf30 = regressor.predict(X_testrf30)"
   ]
  },
  {
   "cell_type": "code",
   "execution_count": 70,
   "id": "8d62ec37",
   "metadata": {},
   "outputs": [
    {
     "data": {
      "text/plain": [
       "0.9615384615384616"
      ]
     },
     "execution_count": 70,
     "metadata": {},
     "output_type": "execute_result"
    }
   ],
   "source": [
    "# Cross-Validation for 30:70 RF split\n",
    "from sklearn import svm\n",
    "clf = svm.SVC(kernel='linear', C=1).fit(X_trainrf30, y_trainrf30)\n",
    "clf.score(X_testrf30, y_testrf30)"
   ]
  },
  {
   "cell_type": "code",
   "execution_count": 71,
   "id": "8fa4e0a5",
   "metadata": {},
   "outputs": [
    {
     "name": "stdout",
     "output_type": "stream",
     "text": [
      "0.57 accuracy with a standard deviation of 0.09\n"
     ]
    }
   ],
   "source": [
    "from sklearn.model_selection import cross_val_score\n",
    "clf = svm.SVC(kernel='linear', C=1, random_state=42)\n",
    "scores = cross_val_score(clf, X_testrf30, y_testrf30, cv=4)\n",
    "print(\"%0.2f accuracy with a standard deviation of %0.2f\" % (scores.mean(), scores.std()))"
   ]
  },
  {
   "cell_type": "code",
   "execution_count": 72,
   "id": "99bace86",
   "metadata": {},
   "outputs": [
    {
     "name": "stdout",
     "output_type": "stream",
     "text": [
      "[[9 2 0]\n",
      " [0 5 0]\n",
      " [0 1 9]]\n",
      "              precision    recall  f1-score   support\n",
      "\n",
      "           0       1.00      0.82      0.90        11\n",
      "           1       0.62      1.00      0.77         5\n",
      "           2       1.00      0.90      0.95        10\n",
      "\n",
      "    accuracy                           0.88        26\n",
      "   macro avg       0.88      0.91      0.87        26\n",
      "weighted avg       0.93      0.88      0.89        26\n",
      "\n",
      "0.8846153846153846\n"
     ]
    }
   ],
   "source": [
    "from sklearn.metrics import classification_report, confusion_matrix, accuracy_score\n",
    "\n",
    "y_predictedrf30 = automl.predict(X_testrf30)\n",
    "print(confusion_matrix(y_testrf30,y_predictedrf30))\n",
    "print(classification_report(y_testrf30,y_predictedrf30))\n",
    "print(accuracy_score(y_testrf30, y_predictedrf30))"
   ]
  },
  {
   "cell_type": "markdown",
   "id": "f8509d95",
   "metadata": {},
   "source": [
    "## 40% RF Split"
   ]
  },
  {
   "cell_type": "code",
   "execution_count": 73,
   "id": "8728507e",
   "metadata": {},
   "outputs": [],
   "source": [
    "X_trainrf40, X_testrf40, y_trainrf40, y_testrf40 = train_test_split(imputed, xyz, test_size=0.4, random_state=0)"
   ]
  },
  {
   "cell_type": "code",
   "execution_count": 74,
   "id": "0f5ec266",
   "metadata": {},
   "outputs": [],
   "source": [
    "from sklearn.ensemble import RandomForestRegressor\n",
    "\n",
    "regressor = RandomForestRegressor(n_estimators=20, random_state=0)\n",
    "regressor.fit(X_trainrf40, y_trainrf40)\n",
    "y_predrf40 = regressor.predict(X_testrf40)"
   ]
  },
  {
   "cell_type": "code",
   "execution_count": 75,
   "id": "c5b7ec2a",
   "metadata": {},
   "outputs": [
    {
     "data": {
      "text/plain": [
       "0.9411764705882353"
      ]
     },
     "execution_count": 75,
     "metadata": {},
     "output_type": "execute_result"
    }
   ],
   "source": [
    "# Cross-Validation for 40:60 RF split\n",
    "from sklearn import svm\n",
    "clf = svm.SVC(kernel='linear', C=1).fit(X_trainrf40, y_trainrf40)\n",
    "clf.score(X_testrf40, y_testrf40)"
   ]
  },
  {
   "cell_type": "code",
   "execution_count": 76,
   "id": "9753d9b6",
   "metadata": {},
   "outputs": [
    {
     "name": "stdout",
     "output_type": "stream",
     "text": [
      "0.60 accuracy with a standard deviation of 0.15\n"
     ]
    }
   ],
   "source": [
    "from sklearn.model_selection import cross_val_score\n",
    "clf = svm.SVC(kernel='linear', C=1, random_state=42)\n",
    "scores = cross_val_score(clf, X_testrf40, y_testrf40, cv=4)\n",
    "print(\"%0.2f accuracy with a standard deviation of %0.2f\" % (scores.mean(), scores.std()))"
   ]
  },
  {
   "cell_type": "code",
   "execution_count": 77,
   "id": "e3442993",
   "metadata": {},
   "outputs": [
    {
     "name": "stdout",
     "output_type": "stream",
     "text": [
      "[[11  2  0]\n",
      " [ 0  7  0]\n",
      " [ 0  1 13]]\n",
      "              precision    recall  f1-score   support\n",
      "\n",
      "           0       1.00      0.85      0.92        13\n",
      "           1       0.70      1.00      0.82         7\n",
      "           2       1.00      0.93      0.96        14\n",
      "\n",
      "    accuracy                           0.91        34\n",
      "   macro avg       0.90      0.92      0.90        34\n",
      "weighted avg       0.94      0.91      0.92        34\n",
      "\n",
      "0.9117647058823529\n"
     ]
    }
   ],
   "source": [
    "from sklearn.metrics import classification_report, confusion_matrix, accuracy_score\n",
    "\n",
    "y_predictedrf40 = automl.predict(X_testrf40)\n",
    "print(confusion_matrix(y_testrf40,y_predictedrf40))\n",
    "print(classification_report(y_testrf40,y_predictedrf40))\n",
    "print(accuracy_score(y_testrf40, y_predictedrf40))"
   ]
  },
  {
   "cell_type": "markdown",
   "id": "7d8b6778",
   "metadata": {},
   "source": [
    "## 50% RF Split"
   ]
  },
  {
   "cell_type": "code",
   "execution_count": 78,
   "id": "9bf6c77d",
   "metadata": {},
   "outputs": [],
   "source": [
    "X_trainrf50, X_testrf50, y_trainrf50, y_testrf50 = train_test_split(imputed, xyz, test_size=0.5, random_state=0)"
   ]
  },
  {
   "cell_type": "code",
   "execution_count": 79,
   "id": "f1c5a56e",
   "metadata": {},
   "outputs": [],
   "source": [
    "from sklearn.ensemble import RandomForestRegressor\n",
    "\n",
    "regressor = RandomForestRegressor(n_estimators=20, random_state=0)\n",
    "regressor.fit(X_trainrf50, y_trainrf50)\n",
    "y_predrf50 = regressor.predict(X_testrf50)"
   ]
  },
  {
   "cell_type": "code",
   "execution_count": 80,
   "id": "8f2e4a46",
   "metadata": {},
   "outputs": [
    {
     "data": {
      "text/plain": [
       "0.8809523809523809"
      ]
     },
     "execution_count": 80,
     "metadata": {},
     "output_type": "execute_result"
    }
   ],
   "source": [
    "# Cross-Validation for 50:50 RF split\n",
    "from sklearn import svm\n",
    "clf = svm.SVC(kernel='linear', C=1).fit(X_trainrf50, y_trainrf50)\n",
    "clf.score(X_testrf50, y_testrf50)"
   ]
  },
  {
   "cell_type": "code",
   "execution_count": 81,
   "id": "cd9e1d96",
   "metadata": {},
   "outputs": [
    {
     "name": "stdout",
     "output_type": "stream",
     "text": [
      "0.74 accuracy with a standard deviation of 0.13\n"
     ]
    }
   ],
   "source": [
    "from sklearn.model_selection import cross_val_score\n",
    "clf = svm.SVC(kernel='linear', C=1, random_state=42)\n",
    "scores = cross_val_score(clf, X_testrf50, y_testrf50, cv=4)\n",
    "print(\"%0.2f accuracy with a standard deviation of %0.2f\" % (scores.mean(), scores.std()))"
   ]
  },
  {
   "cell_type": "code",
   "execution_count": 82,
   "id": "9f1ee4f1",
   "metadata": {},
   "outputs": [
    {
     "name": "stdout",
     "output_type": "stream",
     "text": [
      "[[12  2  0]\n",
      " [ 0 11  0]\n",
      " [ 0  1 16]]\n",
      "              precision    recall  f1-score   support\n",
      "\n",
      "           0       1.00      0.86      0.92        14\n",
      "           1       0.79      1.00      0.88        11\n",
      "           2       1.00      0.94      0.97        17\n",
      "\n",
      "    accuracy                           0.93        42\n",
      "   macro avg       0.93      0.93      0.92        42\n",
      "weighted avg       0.94      0.93      0.93        42\n",
      "\n",
      "0.9285714285714286\n"
     ]
    }
   ],
   "source": [
    "from sklearn.metrics import classification_report, confusion_matrix, accuracy_score\n",
    "\n",
    "y_predictedrf50 = automl.predict(X_testrf50)\n",
    "print(confusion_matrix(y_testrf50,y_predictedrf50))\n",
    "print(classification_report(y_testrf50,y_predictedrf50))\n",
    "print(accuracy_score(y_testrf50, y_predictedrf50))"
   ]
  }
 ],
 "metadata": {
  "kernelspec": {
   "display_name": "Python 3",
   "language": "python",
   "name": "python3"
  },
  "language_info": {
   "codemirror_mode": {
    "name": "ipython",
    "version": 3
   },
   "file_extension": ".py",
   "mimetype": "text/x-python",
   "name": "python",
   "nbconvert_exporter": "python",
   "pygments_lexer": "ipython3",
   "version": "3.8.8"
  }
 },
 "nbformat": 4,
 "nbformat_minor": 5
}
